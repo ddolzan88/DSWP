{
  "nbformat": 4,
  "nbformat_minor": 0,
  "metadata": {
    "colab": {
      "name": "NB01_03__Loops.ipynb",
      "provenance": [],
      "private_outputs": true,
      "include_colab_link": true
    },
    "kernelspec": {
      "name": "python3",
      "display_name": "Python 3"
    }
  },
  "cells": [
    {
      "cell_type": "markdown",
      "metadata": {
        "id": "view-in-github",
        "colab_type": "text"
      },
      "source": [
        "<a href=\"https://colab.research.google.com/github/ddolzan88/DSWP/blob/master/Notebooks/NB01_03__Loops%20While%20%26%20For_MEU.ipynb\" target=\"_parent\"><img src=\"https://colab.research.google.com/assets/colab-badge.svg\" alt=\"Open In Colab\"/></a>"
      ]
    },
    {
      "cell_type": "markdown",
      "metadata": {
        "id": "0HWHRKZBipIA"
      },
      "source": [
        "<center><h1><b><i>LOOPS: While & For</i></b></h1></center>\n",
        "\n"
      ]
    },
    {
      "cell_type": "markdown",
      "metadata": {
        "id": "xjDSAzb07p_-"
      },
      "source": [
        "# **AGENDA**:\n",
        "> Veja o **índice** dos itens que serão abordados neste capítulo."
      ]
    },
    {
      "cell_type": "markdown",
      "metadata": {
        "id": "rwh5e0oJd71R"
      },
      "source": [
        "___\n",
        "# **While**\n",
        "> Usamos Loops quando desejamos que algumas instruções sejam executadas várias vezes."
      ]
    },
    {
      "cell_type": "code",
      "metadata": {
        "id": "IPIKVR5Uf5pS"
      },
      "source": [
        "# Não executar o code a seguir:\n",
        "while condicao:\n",
        "    <bloco de código caso condicao for verdade>\n",
        "    break/continue"
      ],
      "execution_count": null,
      "outputs": []
    },
    {
      "cell_type": "markdown",
      "metadata": {
        "id": "AaxOB5knbLQq"
      },
      "source": [
        "## Exemplo 1"
      ]
    },
    {
      "cell_type": "code",
      "metadata": {
        "id": "SiKKCk35aRo_"
      },
      "source": [
        "i_numero= 10\n",
        "i_soma= 0\n",
        "\n",
        "while i_numero > 0:\n",
        "    i_soma+= i_numero\n",
        "    print(f'Número: {i_numero} --> Soma: {i_soma}')\n",
        "    i_numero -= 1   "
      ],
      "execution_count": null,
      "outputs": []
    },
    {
      "cell_type": "markdown",
      "metadata": {
        "id": "G__s_OwVbNf5"
      },
      "source": [
        "## Exemplo 2"
      ]
    },
    {
      "cell_type": "code",
      "metadata": {
        "id": "DKPqbmFQbO-M"
      },
      "source": [
        "i_numero= 10\n",
        "i_soma= 0\n",
        "\n",
        "while i_numero > 0:\n",
        "    i_soma+= i_numero\n",
        "    print(f'Número: {i_numero} --> Soma: {i_soma}')\n",
        "    i_numero -= 1"
      ],
      "execution_count": null,
      "outputs": []
    },
    {
      "cell_type": "markdown",
      "metadata": {
        "id": "kz8U_cPXcfWw"
      },
      "source": [
        "## Exemplo 3"
      ]
    },
    {
      "cell_type": "code",
      "metadata": {
        "id": "DZoUN7wqchcx"
      },
      "source": [
        "i_numero= 10\n",
        "i_soma= 0\n",
        "\n",
        "while i_numero > 0:\n",
        "    i_soma+= i_numero\n",
        "    print(f'Número: {i_numero} --> Soma: {i_soma}')\n",
        "    i_numero -= 1\n",
        "\n",
        "    if i_numero < 5:\n",
        "        print(f'i_numero < 5 --> Chegamos ao fim do while loop!')  \n",
        "        break"
      ],
      "execution_count": null,
      "outputs": []
    },
    {
      "cell_type": "markdown",
      "metadata": {
        "id": "PwSN-ZModXPZ"
      },
      "source": [
        "Observe que a instrução \"break\" força a saída do \"while loop\", mesmo se [condição] for verdadeira."
      ]
    },
    {
      "cell_type": "markdown",
      "metadata": {
        "id": "ovq2nlGddyux"
      },
      "source": [
        "## Exemplo 4"
      ]
    },
    {
      "cell_type": "code",
      "metadata": {
        "id": "cdBWnAlQd0qU"
      },
      "source": [
        "i_numero= 10\n",
        "i_soma= 0\n",
        "\n",
        "while i_numero > 0:\n",
        "    i_numero -= 1\n",
        "\n",
        "    if i_numero == 5:\n",
        "        print(f'i_numero == 5 --> Não faz nada!')  \n",
        "        continue # Esse statement força o início do while loop.\n",
        "    \n",
        "    i_soma+= i_numero\n",
        "    print(f'Número: {i_numero} --> Soma: {i_soma}')   "
      ],
      "execution_count": null,
      "outputs": []
    },
    {
      "cell_type": "markdown",
      "metadata": {
        "id": "Lb_dRhGShPcP"
      },
      "source": [
        "# **For**\n",
        "> Usado nos casos em que queremos iterar os elementos de uma sequência."
      ]
    },
    {
      "cell_type": "code",
      "metadata": {
        "id": "3qLkHhYNgkI5"
      },
      "source": [
        "# Não executar o code a seguir:\n",
        "for condicao:\n",
        "    <bloco de código caso condicao for verdade>\n",
        "    break/continue"
      ],
      "execution_count": null,
      "outputs": []
    },
    {
      "cell_type": "markdown",
      "metadata": {
        "id": "oS9smFVYiAr4"
      },
      "source": [
        "## Exemplo 1"
      ]
    },
    {
      "cell_type": "code",
      "metadata": {
        "id": "UYyKXnbxhSdz"
      },
      "source": [
        "# Definir nossa sequência - No nosso caso, a sequência é uma lista:\n",
        "l_vogais= ['a', 'e', 'i', 'o', 'u']\n",
        "\n",
        "for l_letra in l_vogais:\n",
        "    print(f'Vogal: {l_letra}')"
      ],
      "execution_count": null,
      "outputs": []
    },
    {
      "cell_type": "markdown",
      "metadata": {
        "id": "LQa2cV3AiDG2"
      },
      "source": [
        "## Exemplo 2"
      ]
    },
    {
      "cell_type": "code",
      "metadata": {
        "id": "lAYJLYYeiEgm"
      },
      "source": [
        "# Definir nossa sequência - No nosso caso, a sequência é uma lista:\n",
        "s_frase= 'Data Science é demais!'\n",
        "\n",
        "for l_letra in s_frase:\n",
        "    print(f'{l_letra}')"
      ],
      "execution_count": null,
      "outputs": []
    },
    {
      "cell_type": "markdown",
      "metadata": {
        "id": "yYT9p87Tkkap"
      },
      "source": [
        "## Função range() = np.arange\n",
        "> A função range(inicio, fim, step) gera uma sequência.\n",
        "> A função numpy.arange(inicio, fim, step) faz a mesma coisa que a função range."
      ]
    },
    {
      "cell_type": "markdown",
      "metadata": {
        "id": "1gkp66dlkxPh"
      },
      "source": [
        "Considere os exemplos a seguir:"
      ]
    },
    {
      "cell_type": "code",
      "metadata": {
        "id": "0bw4uvu1j7Ki"
      },
      "source": [
        "list(range(10)) # range(k) gera a sequência 0, ..., k-1."
      ],
      "execution_count": null,
      "outputs": []
    },
    {
      "cell_type": "code",
      "metadata": {
        "id": "kD9XhZ7xi-Bt"
      },
      "source": [
        "list(range(2, 10)) # Gera a sequência 2, 3, ... 9"
      ],
      "execution_count": null,
      "outputs": []
    },
    {
      "cell_type": "code",
      "metadata": {
        "id": "xLANqziHjDLl"
      },
      "source": [
        "list(range(0, 10, 2)) # Gera a sequência 0, 2, 4, 6, 8"
      ],
      "execution_count": null,
      "outputs": []
    },
    {
      "cell_type": "markdown",
      "metadata": {
        "id": "zeMxFTdE6q97"
      },
      "source": [
        "Porque a sequência acima não vai até 10?"
      ]
    },
    {
      "cell_type": "code",
      "metadata": {
        "id": "tvT0UsiojMdM"
      },
      "source": [
        "list(range(10, 0, -1)) # Gera a sequência 10, 9, 8, ..., 1"
      ],
      "execution_count": null,
      "outputs": []
    },
    {
      "cell_type": "code",
      "metadata": {
        "id": "i4ZnFoCRjQ2y"
      },
      "source": [
        "list(range(10, 0, -2))"
      ],
      "execution_count": null,
      "outputs": []
    },
    {
      "cell_type": "code",
      "metadata": {
        "id": "l8i6HSq1kU1c"
      },
      "source": [
        "list(range(10, 0))"
      ],
      "execution_count": null,
      "outputs": []
    },
    {
      "cell_type": "code",
      "metadata": {
        "id": "c2BOO7U4jf0x"
      },
      "source": [
        "list(range(10))"
      ],
      "execution_count": null,
      "outputs": []
    },
    {
      "cell_type": "markdown",
      "metadata": {
        "id": "313SD1DWij5E"
      },
      "source": [
        "## Exemplo 3"
      ]
    },
    {
      "cell_type": "markdown",
      "metadata": {
        "id": "SAVd_E1BjUDZ"
      },
      "source": [
        "Ok, agora que entendemos como funciona a função range() = np.arange, vamos ao For Loop:"
      ]
    },
    {
      "cell_type": "code",
      "metadata": {
        "id": "e9xJQ5WGilyS"
      },
      "source": [
        "for i_numero in range(10):\n",
        "    print(f'{i_numero}')"
      ],
      "execution_count": null,
      "outputs": []
    },
    {
      "cell_type": "markdown",
      "metadata": {
        "id": "Ok1-tYhd8laV"
      },
      "source": [
        "Dissemos que range() = np.arange. Veja abaixo, por exemplo, usando o método np.arange():"
      ]
    },
    {
      "cell_type": "code",
      "metadata": {
        "id": "r8SU-Hh28Vpe"
      },
      "source": [
        "import numpy as np\n",
        "\n",
        "for i_numero in np.arange(10):\n",
        "    print(f'{i_numero}')"
      ],
      "execution_count": null,
      "outputs": []
    },
    {
      "cell_type": "markdown",
      "metadata": {
        "id": "lsB0SGPfk8vu"
      },
      "source": [
        "## Exemplo 4"
      ]
    },
    {
      "cell_type": "code",
      "metadata": {
        "id": "M0dXvvbRk-by"
      },
      "source": [
        "for i_numero in [0,2,4,6,8,10]:\n",
        "    print(f'{i_numero}')"
      ],
      "execution_count": null,
      "outputs": []
    },
    {
      "cell_type": "markdown",
      "metadata": {
        "id": "_pVAcCrylV7S"
      },
      "source": [
        "## Exemplo 5"
      ]
    },
    {
      "cell_type": "code",
      "metadata": {
        "id": "3EzKNonrlZOP"
      },
      "source": [
        "l_paises= ['Portugal', 'Brasil', 'EUA', 'Alemanha', 'Holanda']"
      ],
      "execution_count": null,
      "outputs": []
    },
    {
      "cell_type": "code",
      "metadata": {
        "id": "jHMNlZtmliOT"
      },
      "source": [
        "len(l_paises)"
      ],
      "execution_count": null,
      "outputs": []
    },
    {
      "cell_type": "code",
      "metadata": {
        "id": "zzZ2LoAWllCl"
      },
      "source": [
        "range(len(l_paises))"
      ],
      "execution_count": null,
      "outputs": []
    },
    {
      "cell_type": "code",
      "metadata": {
        "id": "jhwCsF_0lsZB"
      },
      "source": [
        "list(range(len(l_paises)))"
      ],
      "execution_count": null,
      "outputs": []
    },
    {
      "cell_type": "markdown",
      "metadata": {
        "id": "mAbQ_1xylvdK"
      },
      "source": [
        "O que são esses números acima?"
      ]
    },
    {
      "cell_type": "code",
      "metadata": {
        "id": "Bwufxio6lyy8"
      },
      "source": [
        "for i_pais in range(len(l_paises)):\n",
        "    print(f'{l_paises[i_pais]}')"
      ],
      "execution_count": null,
      "outputs": []
    },
    {
      "cell_type": "markdown",
      "metadata": {
        "id": "DiQdDZE1mE6H"
      },
      "source": [
        "Saberia explicar detalhadamente o processo acima?"
      ]
    },
    {
      "cell_type": "markdown",
      "metadata": {
        "id": "eFmSvx1GZLCI"
      },
      "source": [
        "### Observação:\n",
        "* A ideia dos intervalos é:\n",
        "\n",
        "$$[inicio, fim) = [inicio, fim [$$\n",
        "\n",
        "Ou seja, fim não pertence ao intervalo."
      ]
    },
    {
      "cell_type": "code",
      "metadata": {
        "id": "r7Z9sAtG7Om2"
      },
      "source": [
        ""
      ],
      "execution_count": null,
      "outputs": []
    },
    {
      "cell_type": "code",
      "metadata": {
        "id": "EoQGqP907Rrr"
      },
      "source": [
        ""
      ],
      "execution_count": null,
      "outputs": []
    },
    {
      "cell_type": "markdown",
      "metadata": {
        "id": "ZpIfEmZPmPdI"
      },
      "source": [
        "## Exemplo 6\n",
        "> Uso do break."
      ]
    },
    {
      "cell_type": "code",
      "metadata": {
        "id": "Fje2a_NImUC4"
      },
      "source": [
        "for i_pais in range(len(l_paises)):\n",
        "    print(f'{l_paises[i_pais]}')\n",
        "    if l_paises[i_pais]== 'EUA':\n",
        "        break"
      ],
      "execution_count": null,
      "outputs": []
    },
    {
      "cell_type": "markdown",
      "metadata": {
        "id": "FScchFY779nn"
      },
      "source": [
        "___\n",
        "# **Wrap Up**"
      ]
    },
    {
      "cell_type": "markdown",
      "metadata": {
        "id": "IJfct-blOVXd"
      },
      "source": [
        "___\n",
        "# Exercícios\n",
        "Os sites a seguir são uma ótima referência de exercícios de Python:\n",
        "### https://pynative.com/python-if-else-and-for-loop-exercise-with-solutions/;\n",
        "### https://www.w3resource.com/python-exercises/"
      ]
    },
    {
      "cell_type": "code",
      "metadata": {
        "id": "080KkZfx7VIN"
      },
      "source": [
        "# Primeiro Link"
      ],
      "execution_count": null,
      "outputs": []
    },
    {
      "cell_type": "code",
      "metadata": {
        "id": "XhhBms8i7XRD"
      },
      "source": [
        "# Exercício 1\n",
        "i_num= 0\n",
        "while i_num <= 10:\n",
        "    print(i_num)\n",
        "    i_num+= 1"
      ],
      "execution_count": null,
      "outputs": []
    },
    {
      "cell_type": "code",
      "metadata": {
        "id": "Hk7wuESq7axr"
      },
      "source": [
        "# Exercício 2\n",
        "i_num= 0\n",
        "\n",
        "while i_num < 5:\n",
        "    i_num+= 1\n",
        "    for i in range(i_num):\n",
        "        print(i+1, end=' ')\n",
        "    print()\n",
        "    "
      ],
      "execution_count": null,
      "outputs": []
    },
    {
      "cell_type": "code",
      "metadata": {
        "id": "YO2lR3nWKhT3"
      },
      "source": [
        "# Exercício 3\n",
        "def imprime_soma(i_number):\n",
        "    i_soma= 0\n",
        "    for i in range(i_number):\n",
        "        i_soma+= (i+1)\n",
        "    print(f\"A soma dos números de 1 a\", i_number, \"é:\", i_soma)\n",
        "\n",
        "\n",
        "i = 0\n",
        "i_given_number = int(input(\"Por favor, informe um número inteiro: \"))\n",
        "\n",
        "while i in range(i_given_number):\n",
        "    i+= 1\n",
        "    imprime_soma(i)"
      ],
      "execution_count": null,
      "outputs": []
    },
    {
      "cell_type": "code",
      "metadata": {
        "id": "D7oH39qcGked"
      },
      "source": [
        "# Exercício 4\n",
        "def imprime_taboada(i_number):\n",
        "    for i in range(1, 11):\n",
        "        print(i*i_number)\n",
        "\n",
        "\n",
        "i_given_number = int(input(\"A taboada de qual número deseja? \"))\n",
        "\n",
        "imprime_taboada(i_given_number)\n"
      ],
      "execution_count": null,
      "outputs": []
    },
    {
      "cell_type": "code",
      "metadata": {
        "id": "Hr4tLb3sLlR_"
      },
      "source": [
        "# Exercício 5\n",
        "list1 = [12, 15, 32, 42, 55, 75, 122, 132, 150, 180, 200]\n",
        "\n",
        "for number in list1:\n",
        "    if number > 150:\n",
        "        break;\n",
        "    if (number%5) == 0:\n",
        "        print(number)"
      ],
      "execution_count": null,
      "outputs": []
    },
    {
      "cell_type": "code",
      "metadata": {
        "id": "rLKx0C4DMbjf"
      },
      "source": [
        "# Exercício 6\n",
        "s_number = '753864'\n",
        "\n",
        "total_digit = 0\n",
        "for digit in s_number:\n",
        "    total_digit+= 1\n",
        "print(total_digit)\n",
        "\n",
        "\n",
        "# OU\n",
        "\n",
        "number = 753864\n",
        "total_digit = 0\n",
        "while number != 0:\n",
        "    number//= 10\n",
        "    total_digit+= 1\n",
        "print(total_digit)\n",
        "\n",
        "\n"
      ],
      "execution_count": null,
      "outputs": []
    },
    {
      "cell_type": "code",
      "metadata": {
        "id": "fiE8hTlDOXl7"
      },
      "source": [
        "# Exercício 7\n",
        "for j in range(5):\n",
        "    for i in range(5-j,0,-1):\n",
        "        print(i, end=' ')\n",
        "    print()"
      ],
      "execution_count": null,
      "outputs": []
    },
    {
      "cell_type": "code",
      "metadata": {
        "id": "Si7HzsH7Qh2u"
      },
      "source": [
        "# Exercício 8\n",
        "list1 = [10, 20, 30, 40, 50]\n",
        "i_len = len(list1)\n",
        "\n",
        "for i in range(i_len):\n",
        "    print(list1[i_len-i-1])"
      ],
      "execution_count": null,
      "outputs": []
    },
    {
      "cell_type": "code",
      "metadata": {
        "id": "QauqJbPYU6hI"
      },
      "source": [
        "# Exercício 9\n",
        "for i in range(-10,0):\n",
        "    print(i)"
      ],
      "execution_count": null,
      "outputs": []
    },
    {
      "cell_type": "code",
      "metadata": {
        "id": "2KMJGsB7VfN8"
      },
      "source": [
        "# Exercício 10\n",
        "for i in range(5):\n",
        "    print(i)\n",
        "else:\n",
        "    print(\"Done\")"
      ],
      "execution_count": null,
      "outputs": []
    },
    {
      "cell_type": "code",
      "metadata": {
        "id": "E3V5bhMjWHpl"
      },
      "source": [
        "# Exercício 11\n",
        "i_start = 25\n",
        "i_end = 50\n",
        "\n",
        "for i in range(i_start, i_end+1):\n",
        "    for j in range(2, i):\n",
        "        if (i % j) == 0:\n",
        "           break\n",
        "    else:\n",
        "        print(i)\n"
      ],
      "execution_count": null,
      "outputs": []
    },
    {
      "cell_type": "code",
      "metadata": {
        "id": "1WIpsLQpYMlA"
      },
      "source": [
        "# Exercício 12\n",
        "l_fibonacci = [0, 1]\n",
        "\n",
        "for i in range(2, 10, 1):\n",
        "    l_fibonacci.append(l_fibonacci[i-2] + l_fibonacci[i-1])\n",
        "    \n",
        "\n",
        "print(l_fibonacci)\n",
        "\n",
        "\n",
        "# OU\n",
        "\n",
        "termos = 10\n",
        "termo1 = 0\n",
        "termo2 = 1\n",
        "count = 0\n",
        "\n",
        "while count < termos:\n",
        "    print(termo1)\n",
        "    temp = termo1 + termo2\n",
        "    termo1 = termo2\n",
        "    termo2 = temp\n",
        "    count += 1\n",
        "\n"
      ],
      "execution_count": null,
      "outputs": []
    },
    {
      "cell_type": "code",
      "metadata": {
        "id": "WWpFPLj7hVIk"
      },
      "source": [
        "# Exercício 13\n",
        "number = 5\n",
        "result = 1\n",
        "\n",
        "for i in range(number, 1, -1):\n",
        "    result = result * i\n",
        "\n",
        "print(result) "
      ],
      "execution_count": null,
      "outputs": []
    },
    {
      "cell_type": "code",
      "metadata": {
        "id": "7eKmnIlliZlo"
      },
      "source": [
        "# Exercício 14\n",
        "number = 76542\n",
        "result = 0\n",
        "\n",
        "while number != 0:\n",
        "    result = result*10 + (number%10)\n",
        "    number//= 10\n",
        "\n",
        "print(\"Número reverso:\", result)\n",
        "\n"
      ],
      "execution_count": null,
      "outputs": []
    },
    {
      "cell_type": "code",
      "metadata": {
        "id": "Itt3bUcLjt5n"
      },
      "source": [
        "# Exercício 15\n",
        "my_list = [10, 20, 30, 40, 50, 60, 70, 80, 90, 100]\n",
        "i = 0\n",
        "\n",
        "for number in my_list:\n",
        "    if (i % 2) == 1:\n",
        "        print(my_list[i], end=' ')\n",
        "    i+= 1\n",
        "\n",
        "# OU\n",
        "print()\n",
        "\n",
        "\n",
        "for i in my_list[1::2]: # do item 1 até o fim exclusive, de 2 em 2 itens\n",
        "    print(i, end=' ')\n",
        "    \n"
      ],
      "execution_count": null,
      "outputs": []
    },
    {
      "cell_type": "code",
      "metadata": {
        "id": "NQzg0n8ulVw4"
      },
      "source": [
        "# Exercício 16\n",
        "input_number = 6\n",
        "\n",
        "for i in range(1, input_number+1, 1):\n",
        "    print('Número autal é', i, ' e o seu cubo é', i**3)"
      ],
      "execution_count": null,
      "outputs": []
    },
    {
      "cell_type": "code",
      "metadata": {
        "id": "sF-V0ZzS1Jzy"
      },
      "source": [
        "# Exercício 17 - série 2 + 22 + ... + 222n\n",
        "number_of_terms = 5\n",
        "base_num = 0\n",
        "chosen_number = 2\n",
        "multiplicador = 1\n",
        "result = 0\n",
        "\n",
        "for i in range(1, number_of_terms + 1):\n",
        "    base_num = base_num + chosen_number * multiplicador\n",
        "    result = result + base_num\n",
        "    multiplicador *= 10\n",
        "    \n",
        "print(result)"
      ],
      "execution_count": null,
      "outputs": []
    },
    {
      "cell_type": "code",
      "metadata": {
        "id": "BsHtEbRa5Vp8"
      },
      "source": [
        "# Exercício 18 - Falta corrigir\n",
        "lines = 9\n",
        "\n",
        "for i in range(0, lines):\n",
        "    total_simbolo = i%5\n",
        "    while total_simbolo > 0:\n",
        "        print('*', end=' ')\n",
        "        total_simbolo-= 1\n",
        "    print()"
      ],
      "execution_count": null,
      "outputs": []
    }
  ]
}