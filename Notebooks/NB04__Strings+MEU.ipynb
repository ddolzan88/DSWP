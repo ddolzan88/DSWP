{
  "nbformat": 4,
  "nbformat_minor": 0,
  "metadata": {
    "colab": {
      "name": "NB04__Strings.ipynb",
      "provenance": [],
      "collapsed_sections": [
        "n8BIbzQbNWUo",
        "7eS94uQ4NhVR",
        "SYOgJpGYVLUu",
        "CaHFxk98W5if",
        "ReWUyWiHXCnc",
        "CqszHxaKHr2h",
        "tXgF1Wl9gHKY",
        "Fotx7XUquAo8",
        "36kmLUYDvsUI",
        "SWO2GdNovxAp",
        "vpN54l4vxze5",
        "u4HOf9SNytSq",
        "6BQ9oZiD9hg5",
        "tz5-QdrX9vct",
        "p1muBgMX8NK4",
        "FxTC2-U88ajk",
        "z8EYn0pP25Rh"
      ],
      "include_colab_link": true
    },
    "kernelspec": {
      "name": "python3",
      "display_name": "Python 3"
    },
    "accelerator": "GPU"
  },
  "cells": [
    {
      "cell_type": "markdown",
      "metadata": {
        "id": "view-in-github",
        "colab_type": "text"
      },
      "source": [
        "<a href=\"https://colab.research.google.com/github/ddolzan88/DSWP/blob/master/Notebooks/NB04__Strings%2BMEU.ipynb\" target=\"_parent\"><img src=\"https://colab.research.google.com/assets/colab-badge.svg\" alt=\"Open In Colab\"/></a>"
      ]
    },
    {
      "cell_type": "markdown",
      "metadata": {
        "id": "caaDTO_ym1Nf"
      },
      "source": [
        "<center><h1><b><i>STRINGS</i></b></h1></center>"
      ]
    },
    {
      "cell_type": "markdown",
      "metadata": {
        "id": "sjF60sU5RJrw"
      },
      "source": [
        "___\n",
        "# **AGENDA**:\n",
        "> Neste capítulo, vamos abordar os seguintes assuntos:\n",
        "\n",
        "* Strings\n",
        "* Formatar Strings\n",
        "* Manipular Strings\n",
        "* Wrap Up\n",
        "* Exercícios"
      ]
    },
    {
      "cell_type": "markdown",
      "metadata": {
        "id": "pKC1CJJggtQC"
      },
      "source": [
        "___\n",
        "# **STRINGS**\n",
        "* Strings são sequência de caracteres entre aspas (duplas ou simples);\n",
        "* Variáveis strings são imutáveis. Isso quer dizer que o valor de uma variável string não pode ser modificada ao longo do código."
      ]
    },
    {
      "cell_type": "code",
      "metadata": {
        "id": "pEm76z8IxFHt"
      },
      "source": [
        "s_frase = 'Strings são imutaveis.'"
      ],
      "execution_count": null,
      "outputs": []
    },
    {
      "cell_type": "code",
      "metadata": {
        "id": "duPYy_N6xO_4",
        "outputId": "3b827888-e249-4fc0-a577-c5140df86722",
        "colab": {
          "base_uri": "https://localhost:8080/",
          "height": 35
        }
      },
      "source": [
        "# Endereço de memória da string s_frase:\n",
        "id(s_frase)"
      ],
      "execution_count": null,
      "outputs": [
        {
          "output_type": "execute_result",
          "data": {
            "text/plain": [
              "140644014339344"
            ]
          },
          "metadata": {
            "tags": []
          },
          "execution_count": 8
        }
      ]
    },
    {
      "cell_type": "code",
      "metadata": {
        "id": "Um4nNkaJxoSH",
        "outputId": "6c1d6a94-69a8-4380-8da0-58b8191ab04c",
        "colab": {
          "base_uri": "https://localhost:8080/",
          "height": 35
        }
      },
      "source": [
        "# Mostrando partes da string s_frase:\n",
        "s_frase[21]"
      ],
      "execution_count": null,
      "outputs": [
        {
          "output_type": "execute_result",
          "data": {
            "text/plain": [
              "'.'"
            ]
          },
          "metadata": {
            "tags": []
          },
          "execution_count": 9
        }
      ]
    },
    {
      "cell_type": "markdown",
      "metadata": {
        "id": "9wOJBaWnyB8z"
      },
      "source": [
        "Vamos tentar alterar o conteúdo de s_frase[21] para \"!\"..."
      ]
    },
    {
      "cell_type": "code",
      "metadata": {
        "id": "jHXDVlACxr3O",
        "outputId": "fbffec5c-ade9-4e2c-afb0-123da2bc2141",
        "colab": {
          "base_uri": "https://localhost:8080/",
          "height": 166
        }
      },
      "source": [
        "s_frase[21] = '!' "
      ],
      "execution_count": null,
      "outputs": [
        {
          "output_type": "error",
          "ename": "TypeError",
          "evalue": "ignored",
          "traceback": [
            "\u001b[0;31m---------------------------------------------------------------------------\u001b[0m",
            "\u001b[0;31mTypeError\u001b[0m                                 Traceback (most recent call last)",
            "\u001b[0;32m<ipython-input-10-837bac737291>\u001b[0m in \u001b[0;36m<module>\u001b[0;34m()\u001b[0m\n\u001b[0;32m----> 1\u001b[0;31m \u001b[0ms_A\u001b[0m\u001b[0;34m[\u001b[0m\u001b[0;36m21\u001b[0m\u001b[0;34m]\u001b[0m\u001b[0;34m=\u001b[0m \u001b[0;34m'!'\u001b[0m\u001b[0;34m\u001b[0m\u001b[0;34m\u001b[0m\u001b[0m\n\u001b[0m",
            "\u001b[0;31mTypeError\u001b[0m: 'str' object does not support item assignment"
          ]
        }
      ]
    },
    {
      "cell_type": "markdown",
      "metadata": {
        "id": "nIa76RSCyN4x"
      },
      "source": [
        "Ou seja, não podemos alterar o valor de s_frase."
      ]
    },
    {
      "cell_type": "code",
      "metadata": {
        "id": "aXzrRV37x8om",
        "outputId": "5f977ba0-b8c8-478c-c176-4d53d458de3d",
        "colab": {
          "base_uri": "https://localhost:8080/",
          "height": 35
        }
      },
      "source": [
        "s_frase"
      ],
      "execution_count": null,
      "outputs": [
        {
          "output_type": "execute_result",
          "data": {
            "text/plain": [
              "'Strings são imutaveis.'"
            ]
          },
          "metadata": {
            "tags": []
          },
          "execution_count": 11
        }
      ]
    },
    {
      "cell_type": "code",
      "metadata": {
        "id": "z7rsW-bvxSzY",
        "outputId": "98937893-9567-45f2-a824-e7fde05b49c1",
        "colab": {
          "base_uri": "https://localhost:8080/",
          "height": 35
        }
      },
      "source": [
        "# Mas se fizermos...\n",
        "s_frase = s_frase + ' Portanto, não podemos alterar o valor ao longo do programa.'\n",
        "s_frase"
      ],
      "execution_count": null,
      "outputs": [
        {
          "output_type": "execute_result",
          "data": {
            "text/plain": [
              "'Strings são imutaveis. Portanto, não podemos alterar o valor ao longo do programa.'"
            ]
          },
          "metadata": {
            "tags": []
          },
          "execution_count": 12
        }
      ]
    },
    {
      "cell_type": "code",
      "metadata": {
        "id": "Tg0ilTyLxg9h",
        "outputId": "34767503-d89f-40ea-ba0d-83498251caba",
        "colab": {
          "base_uri": "https://localhost:8080/",
          "height": 35
        }
      },
      "source": [
        "# Endereço de memória da string s_frase:\n",
        "id(s_frase)"
      ],
      "execution_count": null,
      "outputs": [
        {
          "output_type": "execute_result",
          "data": {
            "text/plain": [
              "140644014565296"
            ]
          },
          "metadata": {
            "tags": []
          },
          "execution_count": 13
        }
      ]
    },
    {
      "cell_type": "markdown",
      "metadata": {
        "id": "81eenNJdydbz"
      },
      "source": [
        "Observe que agora temos outro endereço para a variável s_frase. Ou seja, esta é outra variável pois atribuimos s_frase = s_frase + '...'"
      ]
    },
    {
      "cell_type": "markdown",
      "metadata": {
        "id": "CqszHxaKHr2h"
      },
      "source": [
        "___\n",
        "# **FORMATAR STRINGS**\n",
        "* f-strings"
      ]
    },
    {
      "cell_type": "markdown",
      "metadata": {
        "id": "3DCs26n_ga62"
      },
      "source": [
        "Considere as variáveis a seguir:"
      ]
    },
    {
      "cell_type": "code",
      "metadata": {
        "id": "XSSN1lttbX39"
      },
      "source": [
        "s_nome = 'Nelio Machado'\n",
        "s_profissao = 'Cientista de Dados'\n",
        "i_idade = 44\n",
        "s_cidade = 'Lisboa'"
      ],
      "execution_count": 118,
      "outputs": []
    },
    {
      "cell_type": "code",
      "metadata": {
        "id": "xSHrkxPsckl4",
        "outputId": "4a54c2fe-c398-4c1c-edad-b20144b3a450",
        "colab": {
          "base_uri": "https://localhost:8080/",
          "height": 34
        }
      },
      "source": [
        "print(f'O Senhor {s_nome} é {s_profissao}, tem {i_idade} anos de idade e mora em {s_cidade}.')"
      ],
      "execution_count": 119,
      "outputs": [
        {
          "output_type": "stream",
          "text": [
            "O Senhor Nelio Machado é Cientista de Dados, tem 44 anos de idade e mora em Lisboa.\n"
          ],
          "name": "stdout"
        }
      ]
    },
    {
      "cell_type": "markdown",
      "metadata": {
        "id": "5IiolSZKr7qr"
      },
      "source": [
        "Qual o valor de resultado?"
      ]
    },
    {
      "cell_type": "code",
      "metadata": {
        "id": "Yelq-zVPHwZp"
      },
      "source": [
        "i_numero1 = 7\n",
        "i_numero2 = 3"
      ],
      "execution_count": 120,
      "outputs": []
    },
    {
      "cell_type": "code",
      "metadata": {
        "id": "k_EKv-nQsBEX"
      },
      "source": [
        "resultado = i_numero1 / i_numero2"
      ],
      "execution_count": 121,
      "outputs": []
    },
    {
      "cell_type": "code",
      "metadata": {
        "id": "NEFO8lQq67Fq",
        "outputId": "1f0e83ee-8aa1-46aa-849a-96cdabd7ee83",
        "colab": {
          "base_uri": "https://localhost:8080/",
          "height": 34
        }
      },
      "source": [
        "resultado"
      ],
      "execution_count": 122,
      "outputs": [
        {
          "output_type": "execute_result",
          "data": {
            "text/plain": [
              "2.3333333333333335"
            ]
          },
          "metadata": {
            "tags": []
          },
          "execution_count": 122
        }
      ]
    },
    {
      "cell_type": "markdown",
      "metadata": {
        "id": "oHM1rNXOPQQ8"
      },
      "source": [
        "Mostrar o valor de resultado usando 6 casas decimais:"
      ]
    },
    {
      "cell_type": "code",
      "metadata": {
        "id": "Z7Z-qu6XXCwz",
        "outputId": "cd8a89a7-fe8b-45c2-a71d-58e4db8b4b14",
        "colab": {
          "base_uri": "https://localhost:8080/",
          "height": 34
        }
      },
      "source": [
        "print(f'O valor de resultado é {resultado:{10}.{6}}')"
      ],
      "execution_count": 123,
      "outputs": [
        {
          "output_type": "stream",
          "text": [
            "O valor de resultado é    2.33333\n"
          ],
          "name": "stdout"
        }
      ]
    },
    {
      "cell_type": "markdown",
      "metadata": {
        "id": "0lRQ26dzekb0"
      },
      "source": [
        "Veja que interessante e intuitivo: nome_var:{parte_inteira}.{casas_decimais}. Veja novamente:"
      ]
    },
    {
      "cell_type": "code",
      "metadata": {
        "id": "YQ8TcN3tezZ1",
        "outputId": "aa3cda33-2bf0-4750-858e-76551e45276a",
        "colab": {
          "base_uri": "https://localhost:8080/",
          "height": 34
        }
      },
      "source": [
        "print(f'O valor de resultado é {resultado:{10}.{2}}')"
      ],
      "execution_count": 124,
      "outputs": [
        {
          "output_type": "stream",
          "text": [
            "O valor de resultado é        2.3\n"
          ],
          "name": "stdout"
        }
      ]
    },
    {
      "cell_type": "markdown",
      "metadata": {
        "id": "cWAqmY3xqiig"
      },
      "source": [
        "Podemos aplicar funções às f-strings. Por exemplo:"
      ]
    },
    {
      "cell_type": "code",
      "metadata": {
        "id": "1c1xg2noqmyr"
      },
      "source": [
        "s_pais = 'Brasil'"
      ],
      "execution_count": 125,
      "outputs": []
    },
    {
      "cell_type": "code",
      "metadata": {
        "id": "mSn0hHQnq_6X",
        "outputId": "3b973177-6608-4e0a-99e4-1e636582c947",
        "colab": {
          "base_uri": "https://localhost:8080/",
          "height": 35
        }
      },
      "source": [
        "# Sem aplicarmos a função upper():\n",
        "f'Eu nasci no {s_pais}'"
      ],
      "execution_count": 126,
      "outputs": [
        {
          "output_type": "execute_result",
          "data": {
            "application/vnd.google.colaboratory.intrinsic+json": {
              "type": "string"
            },
            "text/plain": [
              "'Eu nasci no Brasil'"
            ]
          },
          "metadata": {
            "tags": []
          },
          "execution_count": 126
        }
      ]
    },
    {
      "cell_type": "code",
      "metadata": {
        "id": "w76dcLUkrHer",
        "outputId": "f244561d-6544-4f0f-a167-9fc7a1d29cb5",
        "colab": {
          "base_uri": "https://localhost:8080/",
          "height": 35
        }
      },
      "source": [
        "# Aplicando a função upper():\n",
        "f'Eu nasci no {s_pais.upper()}'"
      ],
      "execution_count": 127,
      "outputs": [
        {
          "output_type": "execute_result",
          "data": {
            "application/vnd.google.colaboratory.intrinsic+json": {
              "type": "string"
            },
            "text/plain": [
              "'Eu nasci no BRASIL'"
            ]
          },
          "metadata": {
            "tags": []
          },
          "execution_count": 127
        }
      ]
    },
    {
      "cell_type": "markdown",
      "metadata": {
        "id": "2nMtUdre08dE"
      },
      "source": [
        "___\n",
        "# **MANIPULAR STRINGS**"
      ]
    },
    {
      "cell_type": "markdown",
      "metadata": {
        "id": "UqlDK-4Oorif"
      },
      "source": [
        "Suponha a string a seguir:\n",
        "\n",
        "Source: Read more at https://www.brainyquote.com/topics/beauty-quotes\""
      ]
    },
    {
      "cell_type": "code",
      "metadata": {
        "id": "noNBsutFoN9w"
      },
      "source": [
        "s_frase = \"Beauty has so many forms, and I think the most beautiful thing is confidence and loving yourself.\""
      ],
      "execution_count": 11,
      "outputs": []
    },
    {
      "cell_type": "markdown",
      "metadata": {
        "id": "numMjHgzpEfn"
      },
      "source": [
        "Verificando o tipo da variável s_frase:"
      ]
    },
    {
      "cell_type": "code",
      "metadata": {
        "id": "unGvjFaRpMpr",
        "outputId": "a747eb67-0dfa-47b4-8562-b485d0b4e7ba",
        "colab": {
          "base_uri": "https://localhost:8080/",
          "height": 34
        }
      },
      "source": [
        "type(s_frase)"
      ],
      "execution_count": 12,
      "outputs": [
        {
          "output_type": "execute_result",
          "data": {
            "text/plain": [
              "str"
            ]
          },
          "metadata": {
            "tags": []
          },
          "execution_count": 12
        }
      ]
    },
    {
      "cell_type": "markdown",
      "metadata": {
        "id": "dgDJhf30t6wR"
      },
      "source": [
        "Qual o tamanho da variável s_frase?"
      ]
    },
    {
      "cell_type": "code",
      "metadata": {
        "id": "YP9Jl3zQuF8B",
        "outputId": "9efd6971-9af7-4421-e71e-19ef09193df5",
        "colab": {
          "base_uri": "https://localhost:8080/",
          "height": 34
        }
      },
      "source": [
        "len(s_frase)"
      ],
      "execution_count": 13,
      "outputs": [
        {
          "output_type": "execute_result",
          "data": {
            "text/plain": [
              "97"
            ]
          },
          "metadata": {
            "tags": []
          },
          "execution_count": 13
        }
      ]
    },
    {
      "cell_type": "markdown",
      "metadata": {
        "id": "VtrNZcilx59p"
      },
      "source": [
        "O conteúdo da variável s_frase pode ser visto como um array. Portanto, podemos acessar cada caractere da frase da seguinte forma:"
      ]
    },
    {
      "cell_type": "code",
      "metadata": {
        "id": "KtshlZ5OptHy",
        "outputId": "bc3c71a6-d4bd-462a-f653-d31d2c963e7c",
        "colab": {
          "base_uri": "https://localhost:8080/",
          "height": 35
        }
      },
      "source": [
        "s_frase[0]"
      ],
      "execution_count": 14,
      "outputs": [
        {
          "output_type": "execute_result",
          "data": {
            "application/vnd.google.colaboratory.intrinsic+json": {
              "type": "string"
            },
            "text/plain": [
              "'B'"
            ]
          },
          "metadata": {
            "tags": []
          },
          "execution_count": 14
        }
      ]
    },
    {
      "cell_type": "code",
      "metadata": {
        "id": "G5XDmNMKtQMl",
        "outputId": "7ca132b6-1423-4e14-bed3-c9701a1176ea",
        "colab": {
          "base_uri": "https://localhost:8080/",
          "height": 35
        }
      },
      "source": [
        "s_frase[6]"
      ],
      "execution_count": 15,
      "outputs": [
        {
          "output_type": "execute_result",
          "data": {
            "application/vnd.google.colaboratory.intrinsic+json": {
              "type": "string"
            },
            "text/plain": [
              "' '"
            ]
          },
          "metadata": {
            "tags": []
          },
          "execution_count": 15
        }
      ]
    },
    {
      "cell_type": "code",
      "metadata": {
        "id": "IEUxkaqoqDMR",
        "outputId": "ec114739-6a2b-4f22-cb13-cac34380b000",
        "colab": {
          "base_uri": "https://localhost:8080/",
          "height": 35
        }
      },
      "source": [
        "s_frase[7]"
      ],
      "execution_count": 16,
      "outputs": [
        {
          "output_type": "execute_result",
          "data": {
            "application/vnd.google.colaboratory.intrinsic+json": {
              "type": "string"
            },
            "text/plain": [
              "'h'"
            ]
          },
          "metadata": {
            "tags": []
          },
          "execution_count": 16
        }
      ]
    },
    {
      "cell_type": "markdown",
      "metadata": {
        "id": "7r20rZ5JttEn"
      },
      "source": [
        "E o que há na posição 28?"
      ]
    },
    {
      "cell_type": "code",
      "metadata": {
        "id": "FEDrIYzgsja0",
        "outputId": "b598aa35-a59c-4334-a79d-6a594259b5b3",
        "colab": {
          "base_uri": "https://localhost:8080/",
          "height": 35
        }
      },
      "source": [
        "s_frase[28]"
      ],
      "execution_count": 17,
      "outputs": [
        {
          "output_type": "execute_result",
          "data": {
            "application/vnd.google.colaboratory.intrinsic+json": {
              "type": "string"
            },
            "text/plain": [
              "'d'"
            ]
          },
          "metadata": {
            "tags": []
          },
          "execution_count": 17
        }
      ]
    },
    {
      "cell_type": "markdown",
      "metadata": {
        "id": "-qH30_RNnlAF"
      },
      "source": [
        "E qual o caractere/conteúdo da posição 97?"
      ]
    },
    {
      "cell_type": "code",
      "metadata": {
        "id": "zROKPKyLnqde",
        "outputId": "c52e1260-ff4c-4fc5-fc7a-02c12aac681d",
        "colab": {
          "base_uri": "https://localhost:8080/",
          "height": 163
        }
      },
      "source": [
        "s_frase[97]"
      ],
      "execution_count": 18,
      "outputs": [
        {
          "output_type": "error",
          "ename": "IndexError",
          "evalue": "ignored",
          "traceback": [
            "\u001b[0;31m---------------------------------------------------------------------------\u001b[0m",
            "\u001b[0;31mIndexError\u001b[0m                                Traceback (most recent call last)",
            "\u001b[0;32m<ipython-input-18-ec0b63044a6b>\u001b[0m in \u001b[0;36m<module>\u001b[0;34m()\u001b[0m\n\u001b[0;32m----> 1\u001b[0;31m \u001b[0ms_frase\u001b[0m\u001b[0;34m[\u001b[0m\u001b[0;36m97\u001b[0m\u001b[0;34m]\u001b[0m\u001b[0;34m\u001b[0m\u001b[0;34m\u001b[0m\u001b[0m\n\u001b[0m",
            "\u001b[0;31mIndexError\u001b[0m: string index out of range"
          ]
        }
      ]
    },
    {
      "cell_type": "markdown",
      "metadata": {
        "id": "1DIaG36XuOvK"
      },
      "source": [
        "Como esperando, Python aponta erro. Porque?\n",
        "\n",
        "* Lembre-se que len(s_frase) = 96, ok?"
      ]
    },
    {
      "cell_type": "markdown",
      "metadata": {
        "id": "v6X_L5leuW-M"
      },
      "source": [
        "... Mas s_frase[-1] parece estranho pra você? Vamos ver se há conteúdo para s_frase[-1]:"
      ]
    },
    {
      "cell_type": "code",
      "metadata": {
        "id": "MGfENyy-7rPw",
        "outputId": "5e9ecba9-9b5f-4608-c3a4-5223e42a6f52",
        "colab": {
          "base_uri": "https://localhost:8080/",
          "height": 35
        }
      },
      "source": [
        "s_frase"
      ],
      "execution_count": 19,
      "outputs": [
        {
          "output_type": "execute_result",
          "data": {
            "application/vnd.google.colaboratory.intrinsic+json": {
              "type": "string"
            },
            "text/plain": [
              "'Beauty has so many forms, and I think the most beautiful thing is confidence and loving yourself.'"
            ]
          },
          "metadata": {
            "tags": []
          },
          "execution_count": 19
        }
      ]
    },
    {
      "cell_type": "code",
      "metadata": {
        "id": "GrJWvSBzubUp",
        "outputId": "13914f8c-73c6-403b-ffb1-3233ff739923",
        "colab": {
          "base_uri": "https://localhost:8080/",
          "height": 35
        }
      },
      "source": [
        "s_frase[-1]"
      ],
      "execution_count": 20,
      "outputs": [
        {
          "output_type": "execute_result",
          "data": {
            "application/vnd.google.colaboratory.intrinsic+json": {
              "type": "string"
            },
            "text/plain": [
              "'.'"
            ]
          },
          "metadata": {
            "tags": []
          },
          "execution_count": 20
        }
      ]
    },
    {
      "cell_type": "markdown",
      "metadata": {
        "id": "l7YCDSoyujja"
      },
      "source": [
        "E qual o conteúdo da posição -2?"
      ]
    },
    {
      "cell_type": "code",
      "metadata": {
        "id": "ugAlE8L5uzhT",
        "outputId": "cf30280b-3396-4e45-9d92-6066d3959971",
        "colab": {
          "base_uri": "https://localhost:8080/",
          "height": 35
        }
      },
      "source": [
        "s_frase[-2]"
      ],
      "execution_count": 21,
      "outputs": [
        {
          "output_type": "execute_result",
          "data": {
            "application/vnd.google.colaboratory.intrinsic+json": {
              "type": "string"
            },
            "text/plain": [
              "'f'"
            ]
          },
          "metadata": {
            "tags": []
          },
          "execution_count": 21
        }
      ]
    },
    {
      "cell_type": "markdown",
      "metadata": {
        "id": "f2ZTguXjumoS"
      },
      "source": [
        "Saberia explicar o que acontece?"
      ]
    },
    {
      "cell_type": "markdown",
      "metadata": {
        "id": "llMrN_idzT7F"
      },
      "source": [
        "## Concatenar strings\n",
        "* Considere as strings a seguir:"
      ]
    },
    {
      "cell_type": "code",
      "metadata": {
        "id": "tfYrq8auzcaT"
      },
      "source": [
        "s_frase1 = 'Strings são imutáveis!'\n",
        "s_frase2 = ' Portanto, não podemos alterar o valor.'"
      ],
      "execution_count": 22,
      "outputs": []
    },
    {
      "cell_type": "code",
      "metadata": {
        "id": "N0qNvZJUzqvh",
        "outputId": "2d2d2a28-7225-4a97-e3c9-1c11af2a2f21",
        "colab": {
          "base_uri": "https://localhost:8080/",
          "height": 35
        }
      },
      "source": [
        "s_frase1 + s_frase2"
      ],
      "execution_count": 23,
      "outputs": [
        {
          "output_type": "execute_result",
          "data": {
            "application/vnd.google.colaboratory.intrinsic+json": {
              "type": "string"
            },
            "text/plain": [
              "'Strings são imutáveis! Portanto, não podemos alterar o valor.'"
            ]
          },
          "metadata": {
            "tags": []
          },
          "execution_count": 23
        }
      ]
    },
    {
      "cell_type": "markdown",
      "metadata": {
        "id": "uzlTo9dXwjh7"
      },
      "source": [
        "## Cortar Strings\n",
        "* Algumas vezes precisamos de parte da string."
      ]
    },
    {
      "cell_type": "markdown",
      "metadata": {
        "id": "EDJk_u2fxgEs"
      },
      "source": [
        "Parte da string, com começo e fim..."
      ]
    },
    {
      "cell_type": "code",
      "metadata": {
        "id": "4y-DLj9MsxDm",
        "outputId": "cf4a71fd-31b5-49a1-fe12-49b3586c27e0",
        "colab": {
          "base_uri": "https://localhost:8080/",
          "height": 35
        }
      },
      "source": [
        "# Nossa string:\n",
        "s_frase"
      ],
      "execution_count": 24,
      "outputs": [
        {
          "output_type": "execute_result",
          "data": {
            "application/vnd.google.colaboratory.intrinsic+json": {
              "type": "string"
            },
            "text/plain": [
              "'Beauty has so many forms, and I think the most beautiful thing is confidence and loving yourself.'"
            ]
          },
          "metadata": {
            "tags": []
          },
          "execution_count": 24
        }
      ]
    },
    {
      "cell_type": "code",
      "metadata": {
        "id": "MTX25_yOwdfW",
        "outputId": "6bc63b6a-07f2-4008-c143-4bda228a2d5a",
        "colab": {
          "base_uri": "https://localhost:8080/",
          "height": 35
        }
      },
      "source": [
        "s_frase[0:24]"
      ],
      "execution_count": 25,
      "outputs": [
        {
          "output_type": "execute_result",
          "data": {
            "application/vnd.google.colaboratory.intrinsic+json": {
              "type": "string"
            },
            "text/plain": [
              "'Beauty has so many forms'"
            ]
          },
          "metadata": {
            "tags": []
          },
          "execution_count": 25
        }
      ]
    },
    {
      "cell_type": "markdown",
      "metadata": {
        "id": "kuWpwOCIenPm"
      },
      "source": [
        "Obs.: s_frase[0: 24] é equivalente a s_frase[:24]. Veja abaixo:"
      ]
    },
    {
      "cell_type": "code",
      "metadata": {
        "id": "dSAEiWWYewKs",
        "outputId": "d438e3ce-ce9e-444e-994f-7ec1a47b9967",
        "colab": {
          "base_uri": "https://localhost:8080/",
          "height": 35
        }
      },
      "source": [
        "s_frase[:24]"
      ],
      "execution_count": 26,
      "outputs": [
        {
          "output_type": "execute_result",
          "data": {
            "application/vnd.google.colaboratory.intrinsic+json": {
              "type": "string"
            },
            "text/plain": [
              "'Beauty has so many forms'"
            ]
          },
          "metadata": {
            "tags": []
          },
          "execution_count": 26
        }
      ]
    },
    {
      "cell_type": "markdown",
      "metadata": {
        "id": "vQwK-9Hwohfs"
      },
      "source": [
        "... Começa na posição 26 em diante..."
      ]
    },
    {
      "cell_type": "code",
      "metadata": {
        "id": "CJTBBmJ51Qhk",
        "outputId": "af972035-c417-4cfe-dde5-5690a5b7c7ad",
        "colab": {
          "base_uri": "https://localhost:8080/",
          "height": 35
        }
      },
      "source": [
        "s_frase[26:]"
      ],
      "execution_count": 27,
      "outputs": [
        {
          "output_type": "execute_result",
          "data": {
            "application/vnd.google.colaboratory.intrinsic+json": {
              "type": "string"
            },
            "text/plain": [
              "'and I think the most beautiful thing is confidence and loving yourself.'"
            ]
          },
          "metadata": {
            "tags": []
          },
          "execution_count": 27
        }
      ]
    },
    {
      "cell_type": "markdown",
      "metadata": {
        "id": "AMwm33py2Bpq"
      },
      "source": [
        "... Conteúdo de toda a string:"
      ]
    },
    {
      "cell_type": "code",
      "metadata": {
        "id": "Gz5TPx1G2GLN",
        "outputId": "a83f46d2-a6ff-4e36-dcf7-5d4bdb130c5d",
        "colab": {
          "base_uri": "https://localhost:8080/",
          "height": 35
        }
      },
      "source": [
        "s_frase[:] # Intuitivo não? se não definirmos o início e fim, então o Python retorna toda a string."
      ],
      "execution_count": 28,
      "outputs": [
        {
          "output_type": "execute_result",
          "data": {
            "application/vnd.google.colaboratory.intrinsic+json": {
              "type": "string"
            },
            "text/plain": [
              "'Beauty has so many forms, and I think the most beautiful thing is confidence and loving yourself.'"
            ]
          },
          "metadata": {
            "tags": []
          },
          "execution_count": 28
        }
      ]
    },
    {
      "cell_type": "markdown",
      "metadata": {
        "id": "ze0w1N3I2OrO"
      },
      "source": [
        "... Conteúdo da string começando em -9 em diante:"
      ]
    },
    {
      "cell_type": "code",
      "metadata": {
        "id": "xxVVx-uUs62P",
        "outputId": "0e3fa83d-f4d3-4659-da4d-64ddaf911558",
        "colab": {
          "base_uri": "https://localhost:8080/",
          "height": 35
        }
      },
      "source": [
        "s_frase"
      ],
      "execution_count": 29,
      "outputs": [
        {
          "output_type": "execute_result",
          "data": {
            "application/vnd.google.colaboratory.intrinsic+json": {
              "type": "string"
            },
            "text/plain": [
              "'Beauty has so many forms, and I think the most beautiful thing is confidence and loving yourself.'"
            ]
          },
          "metadata": {
            "tags": []
          },
          "execution_count": 29
        }
      ]
    },
    {
      "cell_type": "code",
      "metadata": {
        "id": "RDspRsKB2Sv9",
        "outputId": "51a97005-424b-4bf7-95fc-39f845641ee2",
        "colab": {
          "base_uri": "https://localhost:8080/",
          "height": 35
        }
      },
      "source": [
        "s_frase[-9:]"
      ],
      "execution_count": 30,
      "outputs": [
        {
          "output_type": "execute_result",
          "data": {
            "application/vnd.google.colaboratory.intrinsic+json": {
              "type": "string"
            },
            "text/plain": [
              "'yourself.'"
            ]
          },
          "metadata": {
            "tags": []
          },
          "execution_count": 30
        }
      ]
    },
    {
      "cell_type": "markdown",
      "metadata": {
        "id": "69LEpRHwe4W_"
      },
      "source": [
        "... Uso do step: s_frase[inicio:fim:step]. Vimos como selecionar partes da string usando inicio e fim. Agora vamos ver como usar step:"
      ]
    },
    {
      "cell_type": "code",
      "metadata": {
        "id": "X2ydaRNg8GzS",
        "outputId": "2b2276ff-f3ea-490f-c3d7-47f8325b426a",
        "colab": {
          "base_uri": "https://localhost:8080/",
          "height": 35
        }
      },
      "source": [
        "s_frase"
      ],
      "execution_count": 32,
      "outputs": [
        {
          "output_type": "execute_result",
          "data": {
            "application/vnd.google.colaboratory.intrinsic+json": {
              "type": "string"
            },
            "text/plain": [
              "'Beauty has so many forms, and I think the most beautiful thing is confidence and loving yourself.'"
            ]
          },
          "metadata": {
            "tags": []
          },
          "execution_count": 32
        }
      ]
    },
    {
      "cell_type": "code",
      "metadata": {
        "id": "KaCtXKx8fI2q",
        "outputId": "975a5a14-3a9e-476b-b83d-836ff380934d",
        "colab": {
          "base_uri": "https://localhost:8080/",
          "height": 35
        }
      },
      "source": [
        "s_frase[::2]"
      ],
      "execution_count": 31,
      "outputs": [
        {
          "output_type": "execute_result",
          "data": {
            "application/vnd.google.colaboratory.intrinsic+json": {
              "type": "string"
            },
            "text/plain": [
              "'Bat a omn om,adItiktems euiu hn scniec n oigyusl.'"
            ]
          },
          "metadata": {
            "tags": []
          },
          "execution_count": 31
        }
      ]
    },
    {
      "cell_type": "markdown",
      "metadata": {
        "id": "77A_dBynfM1T"
      },
      "source": [
        "Alguém saberia explicar o resultado da expressão acima?"
      ]
    },
    {
      "cell_type": "markdown",
      "metadata": {
        "id": "C7jQjrTYfSyc"
      },
      "source": [
        "E da expressão a seguir:"
      ]
    },
    {
      "cell_type": "code",
      "metadata": {
        "id": "Bep0HF1zfUcF",
        "outputId": "cb11cd08-0a88-4293-9f6f-a9398f41d2ce",
        "colab": {
          "base_uri": "https://localhost:8080/",
          "height": 35
        }
      },
      "source": [
        "s_frase[2::2]"
      ],
      "execution_count": 33,
      "outputs": [
        {
          "output_type": "execute_result",
          "data": {
            "application/vnd.google.colaboratory.intrinsic+json": {
              "type": "string"
            },
            "text/plain": [
              "'at a omn om,adItiktems euiu hn scniec n oigyusl.'"
            ]
          },
          "metadata": {
            "tags": []
          },
          "execution_count": 33
        }
      ]
    },
    {
      "cell_type": "markdown",
      "metadata": {
        "id": "4psqkz9ZfcDG"
      },
      "source": [
        "E a explicação para a expressão a seguir:"
      ]
    },
    {
      "cell_type": "code",
      "metadata": {
        "id": "QLZ-TeyEfe_b",
        "outputId": "c750f242-7236-43cd-f8f4-7c6fb8a307f1",
        "colab": {
          "base_uri": "https://localhost:8080/",
          "height": 35
        }
      },
      "source": [
        "s_frase[:10:3]"
      ],
      "execution_count": 34,
      "outputs": [
        {
          "output_type": "execute_result",
          "data": {
            "application/vnd.google.colaboratory.intrinsic+json": {
              "type": "string"
            },
            "text/plain": [
              "'Bu s'"
            ]
          },
          "metadata": {
            "tags": []
          },
          "execution_count": 34
        }
      ]
    },
    {
      "cell_type": "markdown",
      "metadata": {
        "id": "DdLGIGjEft6i"
      },
      "source": [
        "Por fim, quem saberia explicar o resultado a seguir:"
      ]
    },
    {
      "cell_type": "code",
      "metadata": {
        "id": "3MSTykjifxjV",
        "outputId": "8d87a28e-cafc-4e52-8543-cb35ef2564e7",
        "colab": {
          "base_uri": "https://localhost:8080/",
          "height": 35
        }
      },
      "source": [
        "s_frase[::-1]"
      ],
      "execution_count": 35,
      "outputs": [
        {
          "output_type": "execute_result",
          "data": {
            "application/vnd.google.colaboratory.intrinsic+json": {
              "type": "string"
            },
            "text/plain": [
              "'.flesruoy gnivol dna ecnedifnoc si gniht lufituaeb tsom eht kniht I dna ,smrof ynam os sah ytuaeB'"
            ]
          },
          "metadata": {
            "tags": []
          },
          "execution_count": 35
        }
      ]
    },
    {
      "cell_type": "markdown",
      "metadata": {
        "id": "ikg8ME172wKS"
      },
      "source": [
        "## Funções Especiais para Strings\n",
        "\n",
        "* Na tabela abaixo, 'i' significa início e 'f' significa fim,\n",
        "\n",
        "| Sintaxe | Descrição ou Ação |\n",
        "|---------|-------------------|\n",
        "s_string.count(s_substring[, i[, f]]) | Conta ocorrências de 's_substring' em s_string |\n",
        "s_string.endswith(s_substring[, i[, f]]) | 'True' se s_string termina com 's_substring' |\n",
        "s_string.find(s_substring [,i[, f]]) | Encontra a primeira ocorrência de 's_substring' em s_string e retorna o índice ou -1 se não encontrar |\n",
        "s_string.index(s_substring [,i[, f]]) | Encontra a primeira ocorrência de 's_substring' em s_string e retorna o índice ou erro se não encontrar |\n",
        "s_string.isalnum() | 'True' se s_string tem somente caracteres alfanuméricos |\n",
        "s_string.isalpha() | 'True' se s_string tem somente caracteres alfabéticos |\n",
        "s_string.isdigit() | 'True' se s_string tem somente dígitos |\n",
        "s_string.isspace() | 'True' se s_string tem somente espaços em branco |\n",
        "s_string.lower() | Converte s_string para lowercase |\n",
        "s_string.lstrip([chars]) | Remove espaços em branco do lado esquerdo de s_string |\n",
        "s_string.replace (old, new[, count]) | Substitui a string 'old' pela string 'new' |\n",
        "s_string.rfind(s_substring [, i[, f]]) | Encontra a última ocorrência de 's_substring' em s_string e retorna o índice ou -1 se não encontrar |\n",
        "s_string.rindex(s_substring [, i[, f]]) | Encontra a última ocorrência de 's_substring' em s_string e retorna seu índice ou erro se não encontrar |\n",
        "s_string.rstrip([chars]) |Remove espaços em branco à direita de s_string |\n",
        "s_string.split('sep') | Split s_string usando 'sep' e retorna a lista de substrings |\n",
        "s_string.startswith(s_substring[, i[, f]]) | 'True' se s_string começa com 's_substring' |\n",
        "s_string.strip([chars]) | Remove 'chars' do lado esquerdo e direito de s_string. O default é chars= ' ' |\n",
        "s_string.upper() | Converte s_string para uppercase |"
      ]
    },
    {
      "cell_type": "markdown",
      "metadata": {
        "id": "JgjsFY014Hqw"
      },
      "source": [
        "## Tamanho da String s_string\n",
        "* len(s_string)"
      ]
    },
    {
      "cell_type": "code",
      "metadata": {
        "id": "A8kFtNzxCFuN",
        "outputId": "2621d596-6558-474b-903f-f3c4f156c598",
        "colab": {
          "base_uri": "https://localhost:8080/",
          "height": 35
        }
      },
      "source": [
        "s_frase"
      ],
      "execution_count": 36,
      "outputs": [
        {
          "output_type": "execute_result",
          "data": {
            "application/vnd.google.colaboratory.intrinsic+json": {
              "type": "string"
            },
            "text/plain": [
              "'Beauty has so many forms, and I think the most beautiful thing is confidence and loving yourself.'"
            ]
          },
          "metadata": {
            "tags": []
          },
          "execution_count": 36
        }
      ]
    },
    {
      "cell_type": "code",
      "metadata": {
        "id": "A8DMhMnx_Gec",
        "outputId": "843b845f-a31e-4b50-c8f1-58940aca408e",
        "colab": {
          "base_uri": "https://localhost:8080/",
          "height": 34
        }
      },
      "source": [
        "len(s_frase)"
      ],
      "execution_count": 37,
      "outputs": [
        {
          "output_type": "execute_result",
          "data": {
            "text/plain": [
              "97"
            ]
          },
          "metadata": {
            "tags": []
          },
          "execution_count": 37
        }
      ]
    },
    {
      "cell_type": "markdown",
      "metadata": {
        "id": "FhSlJQkwBb_e"
      },
      "source": [
        "## Frequência com que s_Character aparece em s_string\n",
        "* s_string.count('s_Character')"
      ]
    },
    {
      "cell_type": "code",
      "metadata": {
        "id": "rmvBVIzjCLSt",
        "outputId": "ff1c81a8-4b1f-4b07-bc4f-519d1085fe72",
        "colab": {
          "base_uri": "https://localhost:8080/",
          "height": 35
        }
      },
      "source": [
        "s_frase"
      ],
      "execution_count": 38,
      "outputs": [
        {
          "output_type": "execute_result",
          "data": {
            "application/vnd.google.colaboratory.intrinsic+json": {
              "type": "string"
            },
            "text/plain": [
              "'Beauty has so many forms, and I think the most beautiful thing is confidence and loving yourself.'"
            ]
          },
          "metadata": {
            "tags": []
          },
          "execution_count": 38
        }
      ]
    },
    {
      "cell_type": "markdown",
      "metadata": {
        "id": "u51gdjMEpR6G"
      },
      "source": [
        "Quantas vezes o caractere 'a' aparece em s_frase?"
      ]
    },
    {
      "cell_type": "code",
      "metadata": {
        "id": "_albEvNaBrh0",
        "outputId": "43fd4558-311a-4a86-b9cf-f5860ea09154",
        "colab": {
          "base_uri": "https://localhost:8080/",
          "height": 34
        }
      },
      "source": [
        "s_frase.count('a')"
      ],
      "execution_count": 39,
      "outputs": [
        {
          "output_type": "execute_result",
          "data": {
            "text/plain": [
              "6"
            ]
          },
          "metadata": {
            "tags": []
          },
          "execution_count": 39
        }
      ]
    },
    {
      "cell_type": "markdown",
      "metadata": {
        "id": "l3Gzk_WmpXiW"
      },
      "source": [
        "Quantas vezes o caractere ',' aparece em s_frase?"
      ]
    },
    {
      "cell_type": "code",
      "metadata": {
        "id": "tBjRzqvjpcJG",
        "outputId": "8e2e46a1-4dec-423b-a979-91ce846d3c80",
        "colab": {
          "base_uri": "https://localhost:8080/",
          "height": 34
        }
      },
      "source": [
        "s_frase.count(',')"
      ],
      "execution_count": 40,
      "outputs": [
        {
          "output_type": "execute_result",
          "data": {
            "text/plain": [
              "1"
            ]
          },
          "metadata": {
            "tags": []
          },
          "execution_count": 40
        }
      ]
    },
    {
      "cell_type": "markdown",
      "metadata": {
        "id": "ECvPPzT9CnCZ"
      },
      "source": [
        "## Encontrar todas as ocorrências de s_substring em s_string usando List Comprehension\n",
        "* Suponha que queremos contar quantas vezes s_substring= 'a' aparece em s_frase. No entanto, veja o conteúdo a seguir:"
      ]
    },
    {
      "cell_type": "code",
      "metadata": {
        "id": "K1Uj8KhhGwAQ",
        "outputId": "17966c66-8c87-4012-eba3-80c5d3a79ded",
        "colab": {
          "base_uri": "https://localhost:8080/",
          "height": 1000
        }
      },
      "source": [
        "# Cria uma array bidimensional do tipo (indice, valor).\n",
        "list(enumerate(s_frase))"
      ],
      "execution_count": 41,
      "outputs": [
        {
          "output_type": "execute_result",
          "data": {
            "text/plain": [
              "[(0, 'B'),\n",
              " (1, 'e'),\n",
              " (2, 'a'),\n",
              " (3, 'u'),\n",
              " (4, 't'),\n",
              " (5, 'y'),\n",
              " (6, ' '),\n",
              " (7, 'h'),\n",
              " (8, 'a'),\n",
              " (9, 's'),\n",
              " (10, ' '),\n",
              " (11, 's'),\n",
              " (12, 'o'),\n",
              " (13, ' '),\n",
              " (14, 'm'),\n",
              " (15, 'a'),\n",
              " (16, 'n'),\n",
              " (17, 'y'),\n",
              " (18, ' '),\n",
              " (19, 'f'),\n",
              " (20, 'o'),\n",
              " (21, 'r'),\n",
              " (22, 'm'),\n",
              " (23, 's'),\n",
              " (24, ','),\n",
              " (25, ' '),\n",
              " (26, 'a'),\n",
              " (27, 'n'),\n",
              " (28, 'd'),\n",
              " (29, ' '),\n",
              " (30, 'I'),\n",
              " (31, ' '),\n",
              " (32, 't'),\n",
              " (33, 'h'),\n",
              " (34, 'i'),\n",
              " (35, 'n'),\n",
              " (36, 'k'),\n",
              " (37, ' '),\n",
              " (38, 't'),\n",
              " (39, 'h'),\n",
              " (40, 'e'),\n",
              " (41, ' '),\n",
              " (42, 'm'),\n",
              " (43, 'o'),\n",
              " (44, 's'),\n",
              " (45, 't'),\n",
              " (46, ' '),\n",
              " (47, 'b'),\n",
              " (48, 'e'),\n",
              " (49, 'a'),\n",
              " (50, 'u'),\n",
              " (51, 't'),\n",
              " (52, 'i'),\n",
              " (53, 'f'),\n",
              " (54, 'u'),\n",
              " (55, 'l'),\n",
              " (56, ' '),\n",
              " (57, 't'),\n",
              " (58, 'h'),\n",
              " (59, 'i'),\n",
              " (60, 'n'),\n",
              " (61, 'g'),\n",
              " (62, ' '),\n",
              " (63, 'i'),\n",
              " (64, 's'),\n",
              " (65, ' '),\n",
              " (66, 'c'),\n",
              " (67, 'o'),\n",
              " (68, 'n'),\n",
              " (69, 'f'),\n",
              " (70, 'i'),\n",
              " (71, 'd'),\n",
              " (72, 'e'),\n",
              " (73, 'n'),\n",
              " (74, 'c'),\n",
              " (75, 'e'),\n",
              " (76, ' '),\n",
              " (77, 'a'),\n",
              " (78, 'n'),\n",
              " (79, 'd'),\n",
              " (80, ' '),\n",
              " (81, 'l'),\n",
              " (82, 'o'),\n",
              " (83, 'v'),\n",
              " (84, 'i'),\n",
              " (85, 'n'),\n",
              " (86, 'g'),\n",
              " (87, ' '),\n",
              " (88, 'y'),\n",
              " (89, 'o'),\n",
              " (90, 'u'),\n",
              " (91, 'r'),\n",
              " (92, 's'),\n",
              " (93, 'e'),\n",
              " (94, 'l'),\n",
              " (95, 'f'),\n",
              " (96, '.')]"
            ]
          },
          "metadata": {
            "tags": []
          },
          "execution_count": 41
        }
      ]
    },
    {
      "cell_type": "markdown",
      "metadata": {
        "id": "HBoUJfssZ_hd"
      },
      "source": [
        "A seguir, encontrar todas as ocorrências de s_substring em s_string:"
      ]
    },
    {
      "cell_type": "code",
      "metadata": {
        "id": "2635PM1xC4v5",
        "outputId": "ea7153b2-a5d6-4a0f-d364-e8cbc721f0a7",
        "colab": {
          "base_uri": "https://localhost:8080/",
          "height": 34
        }
      },
      "source": [
        "s_substring = 'a'\n",
        "l_Indices = [indice for indice, valor in enumerate(s_frase) if valor == s_substring]\n",
        "l_Indices"
      ],
      "execution_count": 42,
      "outputs": [
        {
          "output_type": "execute_result",
          "data": {
            "text/plain": [
              "[2, 8, 15, 26, 49, 77]"
            ]
          },
          "metadata": {
            "tags": []
          },
          "execution_count": 42
        }
      ]
    },
    {
      "cell_type": "markdown",
      "metadata": {
        "id": "xtVIZAsXEBC3"
      },
      "source": [
        "## Encontrar todas as ocorrências de s_substring em s_string usando Expressões Regulares"
      ]
    },
    {
      "cell_type": "code",
      "metadata": {
        "id": "lCsSl3MZEKu8",
        "outputId": "9b2d258b-e1ae-4e54-a1a0-58ed215375fd",
        "colab": {
          "base_uri": "https://localhost:8080/",
          "height": 34
        }
      },
      "source": [
        "import re\n",
        "\n",
        "s_substring = 'a'\n",
        "l_Indices = [i.start() for i in re.finditer(s_substring, s_frase)]\n",
        "l_Indices"
      ],
      "execution_count": 43,
      "outputs": [
        {
          "output_type": "execute_result",
          "data": {
            "text/plain": [
              "[2, 8, 15, 26, 49, 77]"
            ]
          },
          "metadata": {
            "tags": []
          },
          "execution_count": 43
        }
      ]
    },
    {
      "cell_type": "markdown",
      "metadata": {
        "id": "x4uWzHqo2y5J"
      },
      "source": [
        "## s_string.lower()"
      ]
    },
    {
      "cell_type": "code",
      "metadata": {
        "id": "i96RNCQyCPBm",
        "outputId": "bcd9d054-244d-4951-b86b-108e3756c624",
        "colab": {
          "base_uri": "https://localhost:8080/",
          "height": 35
        }
      },
      "source": [
        "s_frase"
      ],
      "execution_count": 46,
      "outputs": [
        {
          "output_type": "execute_result",
          "data": {
            "application/vnd.google.colaboratory.intrinsic+json": {
              "type": "string"
            },
            "text/plain": [
              "'Beauty has so many forms, and I think the most beautiful thing is confidence and loving yourself.'"
            ]
          },
          "metadata": {
            "tags": []
          },
          "execution_count": 46
        }
      ]
    },
    {
      "cell_type": "code",
      "metadata": {
        "id": "h7QVh6nW_Wr3",
        "outputId": "c5451627-1207-4a9f-bcc6-204092014ab8",
        "colab": {
          "base_uri": "https://localhost:8080/",
          "height": 35
        }
      },
      "source": [
        "s_frase.lower()"
      ],
      "execution_count": 45,
      "outputs": [
        {
          "output_type": "execute_result",
          "data": {
            "application/vnd.google.colaboratory.intrinsic+json": {
              "type": "string"
            },
            "text/plain": [
              "'beauty has so many forms, and i think the most beautiful thing is confidence and loving yourself.'"
            ]
          },
          "metadata": {
            "tags": []
          },
          "execution_count": 45
        }
      ]
    },
    {
      "cell_type": "markdown",
      "metadata": {
        "id": "YWjMKj9B4UTS"
      },
      "source": [
        "## s_string.upper()"
      ]
    },
    {
      "cell_type": "code",
      "metadata": {
        "id": "JWLXql2uCQVt",
        "outputId": "eb49fb9d-cf6b-4a64-9473-eb57e2c6f8b9",
        "colab": {
          "base_uri": "https://localhost:8080/",
          "height": 35
        }
      },
      "source": [
        "s_frase"
      ],
      "execution_count": 47,
      "outputs": [
        {
          "output_type": "execute_result",
          "data": {
            "application/vnd.google.colaboratory.intrinsic+json": {
              "type": "string"
            },
            "text/plain": [
              "'Beauty has so many forms, and I think the most beautiful thing is confidence and loving yourself.'"
            ]
          },
          "metadata": {
            "tags": []
          },
          "execution_count": 47
        }
      ]
    },
    {
      "cell_type": "code",
      "metadata": {
        "id": "80zNvZxD_cd3",
        "outputId": "a762700d-b746-4f54-b7bb-e57bb07a3d65",
        "colab": {
          "base_uri": "https://localhost:8080/",
          "height": 35
        }
      },
      "source": [
        "s_frase.upper()"
      ],
      "execution_count": 48,
      "outputs": [
        {
          "output_type": "execute_result",
          "data": {
            "application/vnd.google.colaboratory.intrinsic+json": {
              "type": "string"
            },
            "text/plain": [
              "'BEAUTY HAS SO MANY FORMS, AND I THINK THE MOST BEAUTIFUL THING IS CONFIDENCE AND LOVING YOURSELF.'"
            ]
          },
          "metadata": {
            "tags": []
          },
          "execution_count": 48
        }
      ]
    },
    {
      "cell_type": "markdown",
      "metadata": {
        "id": "orwwTq7A4Zl1"
      },
      "source": [
        "## s_str.strip()"
      ]
    },
    {
      "cell_type": "code",
      "metadata": {
        "id": "QbbCGcg1_m9t"
      },
      "source": [
        "s_frase2 = '  Brasil: Ordem e Progresso!  '"
      ],
      "execution_count": 49,
      "outputs": []
    },
    {
      "cell_type": "code",
      "metadata": {
        "id": "ehLGkpUC_h0A",
        "outputId": "09ee9815-f11b-45aa-a6e7-1f9d20940f18",
        "colab": {
          "base_uri": "https://localhost:8080/",
          "height": 35
        }
      },
      "source": [
        "s_frase2.strip()"
      ],
      "execution_count": 50,
      "outputs": [
        {
          "output_type": "execute_result",
          "data": {
            "application/vnd.google.colaboratory.intrinsic+json": {
              "type": "string"
            },
            "text/plain": [
              "'Brasil: Ordem e Progresso!'"
            ]
          },
          "metadata": {
            "tags": []
          },
          "execution_count": 50
        }
      ]
    },
    {
      "cell_type": "markdown",
      "metadata": {
        "id": "AC0VIn1Mqeyb"
      },
      "source": [
        "Observe acima que os espaços antes e depois da string foram excluídos."
      ]
    },
    {
      "cell_type": "markdown",
      "metadata": {
        "id": "xFTubPhW4e_c"
      },
      "source": [
        "## s_str.isdigit()"
      ]
    },
    {
      "cell_type": "code",
      "metadata": {
        "id": "1xK9VoBR_7-C",
        "outputId": "c264b40b-659d-4d6c-a0c9-5ba3ca14c82f",
        "colab": {
          "base_uri": "https://localhost:8080/",
          "height": 34
        }
      },
      "source": [
        "s_frase.isdigit()"
      ],
      "execution_count": 51,
      "outputs": [
        {
          "output_type": "execute_result",
          "data": {
            "text/plain": [
              "False"
            ]
          },
          "metadata": {
            "tags": []
          },
          "execution_count": 51
        }
      ]
    },
    {
      "cell_type": "code",
      "metadata": {
        "id": "J2o9UAkT__vY",
        "outputId": "034f27af-9899-48a4-b090-5e47d1a0c9e5",
        "colab": {
          "base_uri": "https://localhost:8080/",
          "height": 34
        }
      },
      "source": [
        "'1234567a'.isdigit()"
      ],
      "execution_count": 52,
      "outputs": [
        {
          "output_type": "execute_result",
          "data": {
            "text/plain": [
              "False"
            ]
          },
          "metadata": {
            "tags": []
          },
          "execution_count": 52
        }
      ]
    },
    {
      "cell_type": "code",
      "metadata": {
        "id": "Ll_nLgOpAFC2",
        "outputId": "1ce5acc9-d3ac-4ef1-acae-4baeda1ae0b9",
        "colab": {
          "base_uri": "https://localhost:8080/",
          "height": 34
        }
      },
      "source": [
        "'1234567'.isdigit()"
      ],
      "execution_count": 53,
      "outputs": [
        {
          "output_type": "execute_result",
          "data": {
            "text/plain": [
              "True"
            ]
          },
          "metadata": {
            "tags": []
          },
          "execution_count": 53
        }
      ]
    },
    {
      "cell_type": "markdown",
      "metadata": {
        "id": "NYN11jnx4l1z"
      },
      "source": [
        "## s_string.isspace()"
      ]
    },
    {
      "cell_type": "code",
      "metadata": {
        "id": "imww41-C1XXK",
        "outputId": "59942de8-fab9-4242-aece-cd0ce308e3aa",
        "colab": {
          "base_uri": "https://localhost:8080/",
          "height": 34
        }
      },
      "source": [
        "s_frase[6:7].isspace()"
      ],
      "execution_count": 54,
      "outputs": [
        {
          "output_type": "execute_result",
          "data": {
            "text/plain": [
              "True"
            ]
          },
          "metadata": {
            "tags": []
          },
          "execution_count": 54
        }
      ]
    },
    {
      "cell_type": "markdown",
      "metadata": {
        "id": "yft3MA264ot7"
      },
      "source": [
        "## s_string.startswith('s_Character')"
      ]
    },
    {
      "cell_type": "code",
      "metadata": {
        "id": "SB4SoJxuCTlY",
        "outputId": "29acd38f-f4f8-488d-844a-4816b986a217",
        "colab": {
          "base_uri": "https://localhost:8080/",
          "height": 35
        }
      },
      "source": [
        "s_frase"
      ],
      "execution_count": 55,
      "outputs": [
        {
          "output_type": "execute_result",
          "data": {
            "application/vnd.google.colaboratory.intrinsic+json": {
              "type": "string"
            },
            "text/plain": [
              "'Beauty has so many forms, and I think the most beautiful thing is confidence and loving yourself.'"
            ]
          },
          "metadata": {
            "tags": []
          },
          "execution_count": 55
        }
      ]
    },
    {
      "cell_type": "code",
      "metadata": {
        "id": "L1hY57TW4tL5",
        "outputId": "edf71125-6aa5-43bf-940f-fd7361ac7c62",
        "colab": {
          "base_uri": "https://localhost:8080/",
          "height": 34
        }
      },
      "source": [
        "s_frase.startswith('Beauty')"
      ],
      "execution_count": 56,
      "outputs": [
        {
          "output_type": "execute_result",
          "data": {
            "text/plain": [
              "True"
            ]
          },
          "metadata": {
            "tags": []
          },
          "execution_count": 56
        }
      ]
    },
    {
      "cell_type": "code",
      "metadata": {
        "id": "HdAJPhAH40C6",
        "outputId": "bd1e62d4-4b50-4f6f-e0fa-b3653c5de82b",
        "colab": {
          "base_uri": "https://localhost:8080/",
          "height": 34
        }
      },
      "source": [
        "s_frase.startswith('Beautiful')"
      ],
      "execution_count": 57,
      "outputs": [
        {
          "output_type": "execute_result",
          "data": {
            "text/plain": [
              "False"
            ]
          },
          "metadata": {
            "tags": []
          },
          "execution_count": 57
        }
      ]
    },
    {
      "cell_type": "markdown",
      "metadata": {
        "id": "aJ0XLdMN45kW"
      },
      "source": [
        "## s_string.endswith('s_Character')"
      ]
    },
    {
      "cell_type": "code",
      "metadata": {
        "id": "lIbh8oBICU3M",
        "outputId": "c4c668a5-d3b6-417c-b97d-56d869057398",
        "colab": {
          "base_uri": "https://localhost:8080/",
          "height": 35
        }
      },
      "source": [
        "s_frase"
      ],
      "execution_count": 58,
      "outputs": [
        {
          "output_type": "execute_result",
          "data": {
            "application/vnd.google.colaboratory.intrinsic+json": {
              "type": "string"
            },
            "text/plain": [
              "'Beauty has so many forms, and I think the most beautiful thing is confidence and loving yourself.'"
            ]
          },
          "metadata": {
            "tags": []
          },
          "execution_count": 58
        }
      ]
    },
    {
      "cell_type": "markdown",
      "metadata": {
        "id": "fST0sCs6q3Se"
      },
      "source": [
        "A string s_frase termina com '!'?"
      ]
    },
    {
      "cell_type": "code",
      "metadata": {
        "id": "1oy9r22A5J2g",
        "outputId": "d0ea00b4-9e4d-4214-c5d8-b37cf14238d6",
        "colab": {
          "base_uri": "https://localhost:8080/",
          "height": 34
        }
      },
      "source": [
        "s_frase.endswith('!')"
      ],
      "execution_count": 59,
      "outputs": [
        {
          "output_type": "execute_result",
          "data": {
            "text/plain": [
              "False"
            ]
          },
          "metadata": {
            "tags": []
          },
          "execution_count": 59
        }
      ]
    },
    {
      "cell_type": "markdown",
      "metadata": {
        "id": "wVAE2jyDq8lB"
      },
      "source": [
        "A string s_frase termina com '.'?"
      ]
    },
    {
      "cell_type": "code",
      "metadata": {
        "id": "1v332nD7qzga",
        "outputId": "b959393c-d4f7-4ce1-f355-06c7cf24f0a4",
        "colab": {
          "base_uri": "https://localhost:8080/",
          "height": 34
        }
      },
      "source": [
        "s_frase.endswith('.')"
      ],
      "execution_count": 60,
      "outputs": [
        {
          "output_type": "execute_result",
          "data": {
            "text/plain": [
              "True"
            ]
          },
          "metadata": {
            "tags": []
          },
          "execution_count": 60
        }
      ]
    },
    {
      "cell_type": "markdown",
      "metadata": {
        "id": "g4T-n_Vq5kje"
      },
      "source": [
        "## s_string.find('s_Charactere')"
      ]
    },
    {
      "cell_type": "code",
      "metadata": {
        "id": "fpYCC-pACWPb",
        "outputId": "2deb9d52-8b4a-4b66-fa3d-0e8ada0c5bcf",
        "colab": {
          "base_uri": "https://localhost:8080/",
          "height": 35
        }
      },
      "source": [
        "s_frase"
      ],
      "execution_count": 61,
      "outputs": [
        {
          "output_type": "execute_result",
          "data": {
            "application/vnd.google.colaboratory.intrinsic+json": {
              "type": "string"
            },
            "text/plain": [
              "'Beauty has so many forms, and I think the most beautiful thing is confidence and loving yourself.'"
            ]
          },
          "metadata": {
            "tags": []
          },
          "execution_count": 61
        }
      ]
    },
    {
      "cell_type": "code",
      "metadata": {
        "id": "NRIG8n0259yW",
        "outputId": "43ad86c9-cded-4b41-c46f-ae250398a196",
        "colab": {
          "base_uri": "https://localhost:8080/",
          "height": 34
        }
      },
      "source": [
        "# Primeira ocorrência de ',':\n",
        "s_frase.find(',')"
      ],
      "execution_count": 62,
      "outputs": [
        {
          "output_type": "execute_result",
          "data": {
            "text/plain": [
              "24"
            ]
          },
          "metadata": {
            "tags": []
          },
          "execution_count": 62
        }
      ]
    },
    {
      "cell_type": "markdown",
      "metadata": {
        "id": "x1RDdI6x6YD8"
      },
      "source": [
        "Como esperado, substr= ',' faz parte de s_frase."
      ]
    },
    {
      "cell_type": "markdown",
      "metadata": {
        "id": "wXnNRYW46vhX"
      },
      "source": [
        "Se 's_Character' não faz parte de s_frase, Python retorna -1, como abaixo:"
      ]
    },
    {
      "cell_type": "code",
      "metadata": {
        "id": "k2Ok8__-654p",
        "outputId": "fecccfba-5fee-4e6f-8410-1c3b6ec61583",
        "colab": {
          "base_uri": "https://localhost:8080/",
          "height": 34
        }
      },
      "source": [
        "s_frase.find('Beauti') # 'i' ao invés de 'y'"
      ],
      "execution_count": 63,
      "outputs": [
        {
          "output_type": "execute_result",
          "data": {
            "text/plain": [
              "-1"
            ]
          },
          "metadata": {
            "tags": []
          },
          "execution_count": 63
        }
      ]
    },
    {
      "cell_type": "markdown",
      "metadata": {
        "id": "p5jNHCDQ7Bl6"
      },
      "source": [
        "## s_string.replace(old, new)"
      ]
    },
    {
      "cell_type": "markdown",
      "metadata": {
        "id": "UUM3cnlDaqPs"
      },
      "source": [
        "### Exemplo 1"
      ]
    },
    {
      "cell_type": "code",
      "metadata": {
        "id": "Vi7TBVoXr0Uk",
        "outputId": "f33a985e-24c9-417e-b335-6be0499b363e",
        "colab": {
          "base_uri": "https://localhost:8080/",
          "height": 35
        }
      },
      "source": [
        "s_frase"
      ],
      "execution_count": 66,
      "outputs": [
        {
          "output_type": "execute_result",
          "data": {
            "application/vnd.google.colaboratory.intrinsic+json": {
              "type": "string"
            },
            "text/plain": [
              "'Beauty has so many forms, and I think the most beautiful thing is confidence and loving yourself.'"
            ]
          },
          "metadata": {
            "tags": []
          },
          "execution_count": 66
        }
      ]
    },
    {
      "cell_type": "code",
      "metadata": {
        "id": "MWFiLutR6cRR",
        "outputId": "a5bf3fa6-d668-4be6-a611-1be31ac63be1",
        "colab": {
          "base_uri": "https://localhost:8080/",
          "height": 35
        }
      },
      "source": [
        "s_frase.replace('most', 'MOST')"
      ],
      "execution_count": 65,
      "outputs": [
        {
          "output_type": "execute_result",
          "data": {
            "application/vnd.google.colaboratory.intrinsic+json": {
              "type": "string"
            },
            "text/plain": [
              "'Beauty has so many forms, and I think the MOST beautiful thing is confidence and loving yourself.'"
            ]
          },
          "metadata": {
            "tags": []
          },
          "execution_count": 65
        }
      ]
    },
    {
      "cell_type": "markdown",
      "metadata": {
        "id": "RT46g3S0awnf"
      },
      "source": [
        "### Exemplo 2\n",
        "* Remover o caractere ' ' por ''."
      ]
    },
    {
      "cell_type": "code",
      "metadata": {
        "id": "UTKsbNIz9lnX",
        "outputId": "37204acf-764b-40c4-9654-348ab81af35c",
        "colab": {
          "base_uri": "https://localhost:8080/",
          "height": 35
        }
      },
      "source": [
        "s_frase.replace(' ', '')"
      ],
      "execution_count": 67,
      "outputs": [
        {
          "output_type": "execute_result",
          "data": {
            "application/vnd.google.colaboratory.intrinsic+json": {
              "type": "string"
            },
            "text/plain": [
              "'Beautyhassomanyforms,andIthinkthemostbeautifulthingisconfidenceandlovingyourself.'"
            ]
          },
          "metadata": {
            "tags": []
          },
          "execution_count": 67
        }
      ]
    },
    {
      "cell_type": "markdown",
      "metadata": {
        "id": "TzPrEftNa69C"
      },
      "source": [
        "### Exemplo 3\n",
        "* Vamos tentar substituir o caracter '?' por '!'"
      ]
    },
    {
      "cell_type": "code",
      "metadata": {
        "id": "E0FTeY_lsNke",
        "outputId": "4c99e001-66d6-4151-90d4-b2416d967854",
        "colab": {
          "base_uri": "https://localhost:8080/",
          "height": 35
        }
      },
      "source": [
        "s_frase.replace('?', '!')"
      ],
      "execution_count": 68,
      "outputs": [
        {
          "output_type": "execute_result",
          "data": {
            "application/vnd.google.colaboratory.intrinsic+json": {
              "type": "string"
            },
            "text/plain": [
              "'Beauty has so many forms, and I think the most beautiful thing is confidence and loving yourself.'"
            ]
          },
          "metadata": {
            "tags": []
          },
          "execution_count": 68
        }
      ]
    },
    {
      "cell_type": "markdown",
      "metadata": {
        "id": "mgzh1KQG7bx6"
      },
      "source": [
        "O que aconteceu? Não substituiu... Porque?\n",
        "\n",
        "Saberia explicar porque o Python não substituiu?"
      ]
    },
    {
      "cell_type": "markdown",
      "metadata": {
        "id": "DudTwJSX7ltC"
      },
      "source": [
        "E agora?"
      ]
    },
    {
      "cell_type": "code",
      "metadata": {
        "id": "-2BZQ6mG7hh6",
        "outputId": "0c902406-6894-455e-bb8f-6125a33450ad",
        "colab": {
          "base_uri": "https://localhost:8080/",
          "height": 35
        }
      },
      "source": [
        "s_frase.replace('.', '!')"
      ],
      "execution_count": 69,
      "outputs": [
        {
          "output_type": "execute_result",
          "data": {
            "application/vnd.google.colaboratory.intrinsic+json": {
              "type": "string"
            },
            "text/plain": [
              "'Beauty has so many forms, and I think the most beautiful thing is confidence and loving yourself!'"
            ]
          },
          "metadata": {
            "tags": []
          },
          "execution_count": 69
        }
      ]
    },
    {
      "cell_type": "markdown",
      "metadata": {
        "id": "42v6zRUO8DlQ"
      },
      "source": [
        "... Entretanto, qual o conteúdo de s_frase?"
      ]
    },
    {
      "cell_type": "code",
      "metadata": {
        "id": "Lmo4aiol7qUF",
        "outputId": "559a03f2-2ec2-43c0-970a-446724c31a52",
        "colab": {
          "base_uri": "https://localhost:8080/",
          "height": 35
        }
      },
      "source": [
        "s_frase"
      ],
      "execution_count": 70,
      "outputs": [
        {
          "output_type": "execute_result",
          "data": {
            "application/vnd.google.colaboratory.intrinsic+json": {
              "type": "string"
            },
            "text/plain": [
              "'Beauty has so many forms, and I think the most beautiful thing is confidence and loving yourself.'"
            ]
          },
          "metadata": {
            "tags": []
          },
          "execution_count": 70
        }
      ]
    },
    {
      "cell_type": "markdown",
      "metadata": {
        "id": "ap9nFc2E8MAG"
      },
      "source": [
        "**DICA**: Strings are imutáveis! A forma correta seria:"
      ]
    },
    {
      "cell_type": "code",
      "metadata": {
        "id": "eH8yHJik8U0N"
      },
      "source": [
        "s_frase= s_frase.replace('.', '!')"
      ],
      "execution_count": 71,
      "outputs": []
    },
    {
      "cell_type": "markdown",
      "metadata": {
        "id": "nHCudHwJ8eSf"
      },
      "source": [
        "Desta forma, redefinimos uma nova variável chamada s_frase. Mas é a mesma variável que anteriormente, certo?"
      ]
    },
    {
      "cell_type": "code",
      "metadata": {
        "id": "WRFcfuzH8cBL",
        "outputId": "a1218c3b-ec41-412b-d80e-2e8ce87525c6",
        "colab": {
          "base_uri": "https://localhost:8080/",
          "height": 35
        }
      },
      "source": [
        "s_frase"
      ],
      "execution_count": 72,
      "outputs": [
        {
          "output_type": "execute_result",
          "data": {
            "application/vnd.google.colaboratory.intrinsic+json": {
              "type": "string"
            },
            "text/plain": [
              "'Beauty has so many forms, and I think the most beautiful thing is confidence and loving yourself!'"
            ]
          },
          "metadata": {
            "tags": []
          },
          "execution_count": 72
        }
      ]
    },
    {
      "cell_type": "markdown",
      "metadata": {
        "id": "aL2UZp9T8lAk"
      },
      "source": [
        "## s_string.split('sep')"
      ]
    },
    {
      "cell_type": "markdown",
      "metadata": {
        "id": "pCPa0pBqbHdK"
      },
      "source": [
        "### Exemplo 1"
      ]
    },
    {
      "cell_type": "code",
      "metadata": {
        "id": "7y0ieQQm9Anx",
        "outputId": "25460b64-fd99-466a-97bd-fb155b4e2337",
        "colab": {
          "base_uri": "https://localhost:8080/",
          "height": 34
        }
      },
      "source": [
        "s_frase.split(':')"
      ],
      "execution_count": 73,
      "outputs": [
        {
          "output_type": "execute_result",
          "data": {
            "text/plain": [
              "['Beauty has so many forms, and I think the most beautiful thing is confidence and loving yourself!']"
            ]
          },
          "metadata": {
            "tags": []
          },
          "execution_count": 73
        }
      ]
    },
    {
      "cell_type": "markdown",
      "metadata": {
        "id": "aS-DYJAyshwc"
      },
      "source": [
        "Não separou nada! Correto, pois o Python separa somente quando enconra o separador ':'"
      ]
    },
    {
      "cell_type": "markdown",
      "metadata": {
        "id": "f3YeNvTDss_X"
      },
      "source": [
        "Vamos tentar o separador ','..."
      ]
    },
    {
      "cell_type": "code",
      "metadata": {
        "id": "1kNciI7f92_n",
        "outputId": "1c0793ad-e4f6-431e-e080-8513223f0136",
        "colab": {
          "base_uri": "https://localhost:8080/",
          "height": 35
        }
      },
      "source": [
        "s_frase"
      ],
      "execution_count": 74,
      "outputs": [
        {
          "output_type": "execute_result",
          "data": {
            "application/vnd.google.colaboratory.intrinsic+json": {
              "type": "string"
            },
            "text/plain": [
              "'Beauty has so many forms, and I think the most beautiful thing is confidence and loving yourself!'"
            ]
          },
          "metadata": {
            "tags": []
          },
          "execution_count": 74
        }
      ]
    },
    {
      "cell_type": "code",
      "metadata": {
        "id": "E3QlgKQYsv3k",
        "outputId": "61d261a6-2b47-4b9a-93b0-701eaea6c5f7",
        "colab": {
          "base_uri": "https://localhost:8080/",
          "height": 51
        }
      },
      "source": [
        "s_frase.split(',')"
      ],
      "execution_count": 75,
      "outputs": [
        {
          "output_type": "execute_result",
          "data": {
            "text/plain": [
              "['Beauty has so many forms',\n",
              " ' and I think the most beautiful thing is confidence and loving yourself!']"
            ]
          },
          "metadata": {
            "tags": []
          },
          "execution_count": 75
        }
      ]
    },
    {
      "cell_type": "markdown",
      "metadata": {
        "id": "AA-z6jcQbKtq"
      },
      "source": [
        "### Exemplo 2"
      ]
    },
    {
      "cell_type": "code",
      "metadata": {
        "id": "2ATukxpd9kij"
      },
      "source": [
        "s_frase3 = '73540877412968744629867535897645310956547894653240984764'"
      ],
      "execution_count": 76,
      "outputs": []
    },
    {
      "cell_type": "markdown",
      "metadata": {
        "id": "506UkCh39xFS"
      },
      "source": [
        "Qual o output do code abaixo:"
      ]
    },
    {
      "cell_type": "code",
      "metadata": {
        "id": "C2G9vyGt91Ir",
        "outputId": "429f62a8-92f3-4f81-8d75-58f41a3f96fe",
        "colab": {
          "base_uri": "https://localhost:8080/",
          "height": 153
        }
      },
      "source": [
        "s_frase3.split('6')"
      ],
      "execution_count": 77,
      "outputs": [
        {
          "output_type": "execute_result",
          "data": {
            "text/plain": [
              "['735408774129',\n",
              " '8744',\n",
              " '298',\n",
              " '7535897',\n",
              " '4531095',\n",
              " '547894',\n",
              " '532409847',\n",
              " '4']"
            ]
          },
          "metadata": {
            "tags": []
          },
          "execution_count": 77
        }
      ]
    },
    {
      "cell_type": "code",
      "metadata": {
        "id": "OiVCdu04-GwZ",
        "outputId": "9c3e5085-7826-4c98-82f0-d6837629bafa",
        "colab": {
          "base_uri": "https://localhost:8080/",
          "height": 35
        }
      },
      "source": [
        "s_frase3.split('6')[0]"
      ],
      "execution_count": 78,
      "outputs": [
        {
          "output_type": "execute_result",
          "data": {
            "application/vnd.google.colaboratory.intrinsic+json": {
              "type": "string"
            },
            "text/plain": [
              "'735408774129'"
            ]
          },
          "metadata": {
            "tags": []
          },
          "execution_count": 78
        }
      ]
    },
    {
      "cell_type": "markdown",
      "metadata": {
        "id": "S3gX9y-tz9ZE"
      },
      "source": [
        "## s_string.join()"
      ]
    },
    {
      "cell_type": "code",
      "metadata": {
        "id": "6jwpWDWb0NFO",
        "outputId": "a92c799f-0ea4-464c-eba4-6c4ae1aca11b",
        "colab": {
          "base_uri": "https://localhost:8080/",
          "height": 35
        }
      },
      "source": [
        "''.join(['Strings','são','imutáveis']) # Observe que os elementos a serem concatenados estão entre []."
      ],
      "execution_count": 79,
      "outputs": [
        {
          "output_type": "execute_result",
          "data": {
            "application/vnd.google.colaboratory.intrinsic+json": {
              "type": "string"
            },
            "text/plain": [
              "'Stringssãoimutáveis'"
            ]
          },
          "metadata": {
            "tags": []
          },
          "execution_count": 79
        }
      ]
    },
    {
      "cell_type": "code",
      "metadata": {
        "id": "ueCpTzdH0XeJ",
        "outputId": "05f32bce-6d04-4515-94e3-459b7ae17c86",
        "colab": {
          "base_uri": "https://localhost:8080/",
          "height": 35
        }
      },
      "source": [
        "s_frase4 = ' '.join(['Strings','são','imutáveis'])\n",
        "s_frase4"
      ],
      "execution_count": 80,
      "outputs": [
        {
          "output_type": "execute_result",
          "data": {
            "application/vnd.google.colaboratory.intrinsic+json": {
              "type": "string"
            },
            "text/plain": [
              "'Strings são imutáveis'"
            ]
          },
          "metadata": {
            "tags": []
          },
          "execution_count": 80
        }
      ]
    },
    {
      "cell_type": "markdown",
      "metadata": {
        "id": "5bW0K_5q-Ud2"
      },
      "source": [
        "## Membership 'in' e 'not in'\n",
        "* Este operador testa se um valor é ou não membro de uma sequência (list, string, ou  dictionary)."
      ]
    },
    {
      "cell_type": "code",
      "metadata": {
        "id": "7e0_9IfEtSf8",
        "outputId": "cf0a0992-ec8a-4f6c-c31c-c4ef3dcf2182",
        "colab": {
          "base_uri": "https://localhost:8080/",
          "height": 35
        }
      },
      "source": [
        "s_frase"
      ],
      "execution_count": 81,
      "outputs": [
        {
          "output_type": "execute_result",
          "data": {
            "application/vnd.google.colaboratory.intrinsic+json": {
              "type": "string"
            },
            "text/plain": [
              "'Beauty has so many forms, and I think the most beautiful thing is confidence and loving yourself!'"
            ]
          },
          "metadata": {
            "tags": []
          },
          "execution_count": 81
        }
      ]
    },
    {
      "cell_type": "code",
      "metadata": {
        "id": "NKhMZwTG-XZA",
        "outputId": "837693ef-a3e4-453b-94c7-fb81a16ff404",
        "colab": {
          "base_uri": "https://localhost:8080/",
          "height": 34
        }
      },
      "source": [
        "'Beauti' in s_frase # Com 'i' ao invés de 'y'"
      ],
      "execution_count": 82,
      "outputs": [
        {
          "output_type": "execute_result",
          "data": {
            "text/plain": [
              "False"
            ]
          },
          "metadata": {
            "tags": []
          },
          "execution_count": 82
        }
      ]
    },
    {
      "cell_type": "code",
      "metadata": {
        "id": "brLjaj1B-b9Q",
        "outputId": "8e5966c3-cbc9-49db-858f-462d6bf3a32f",
        "colab": {
          "base_uri": "https://localhost:8080/",
          "height": 34
        }
      },
      "source": [
        "'beauty' in s_frase"
      ],
      "execution_count": 83,
      "outputs": [
        {
          "output_type": "execute_result",
          "data": {
            "text/plain": [
              "False"
            ]
          },
          "metadata": {
            "tags": []
          },
          "execution_count": 83
        }
      ]
    },
    {
      "cell_type": "code",
      "metadata": {
        "id": "0cccmPea-gkw",
        "outputId": "26667d5d-af69-4cc7-fb3d-ffe45e4f2e4d",
        "colab": {
          "base_uri": "https://localhost:8080/",
          "height": 34
        }
      },
      "source": [
        "'Beautiful' not in s_frase"
      ],
      "execution_count": 84,
      "outputs": [
        {
          "output_type": "execute_result",
          "data": {
            "text/plain": [
              "True"
            ]
          },
          "metadata": {
            "tags": []
          },
          "execution_count": 84
        }
      ]
    },
    {
      "cell_type": "code",
      "metadata": {
        "id": "AD7GIeAptVZM",
        "outputId": "b876668b-a9a7-4073-d0a3-f3f1988e5239",
        "colab": {
          "base_uri": "https://localhost:8080/",
          "height": 34
        }
      },
      "source": [
        "'beautiful' not in s_frase"
      ],
      "execution_count": 85,
      "outputs": [
        {
          "output_type": "execute_result",
          "data": {
            "text/plain": [
              "False"
            ]
          },
          "metadata": {
            "tags": []
          },
          "execution_count": 85
        }
      ]
    },
    {
      "cell_type": "markdown",
      "metadata": {
        "id": "mVU0GxfUf9H1"
      },
      "source": [
        "___\n",
        "# **WRAP UP**"
      ]
    },
    {
      "cell_type": "markdown",
      "metadata": {
        "id": "lbj-kA95gAzI"
      },
      "source": [
        "___\n",
        "# **EXERCÍCIOS**"
      ]
    },
    {
      "cell_type": "markdown",
      "metadata": {
        "id": "x1TlgKY0xWB1"
      },
      "source": [
        "## Exercício 1\n",
        "Consulte a página [Python Data Type: String - Exercises, Practice, Solution](https://www.w3resource.com/python-exercises/string/) para mais exercícios relacionados á este tópico."
      ]
    },
    {
      "cell_type": "code",
      "metadata": {
        "id": "EJVs0lzYIe0a",
        "outputId": "3d09656b-a246-446f-d60d-ca8c87ae62af",
        "colab": {
          "base_uri": "https://localhost:8080/",
          "height": 34
        }
      },
      "source": [
        "# Exercício 1\n",
        "s_str = 'Teste.'\n",
        "\n",
        "i_len_str = len(s_str)\n",
        "print(f'A string tem {i_len_str} caracteres.')"
      ],
      "execution_count": 91,
      "outputs": [
        {
          "output_type": "stream",
          "text": [
            "A string tem 6 caracteres.\n"
          ],
          "name": "stdout"
        }
      ]
    },
    {
      "cell_type": "code",
      "metadata": {
        "id": "lBr7U6JAIfdz",
        "outputId": "20492d22-50b6-4aef-9164-691831179cc8",
        "colab": {
          "base_uri": "https://localhost:8080/",
          "height": 153
        }
      },
      "source": [
        "# Exercício 2\n",
        "s_str = 'google.com'\n",
        "l_lista = []\n",
        "\n",
        "for i in range(len(s_str)):\n",
        "    # pega o caracter e conta a frequencia, incluindo na lista se ainda não estiver\n",
        "    s_char = s_str[i]\n",
        "    i_freq = s_str.count(s_char)\n",
        "    b_char_inedito = True\n",
        "\n",
        "    # percorre a lista para ver se não é repetido\n",
        "    for item in l_lista:\n",
        "        if s_char.rfind(item[0]) == 0:\n",
        "            b_char_inedito = False\n",
        "\n",
        "    # inclui na lista caso já não esteja nela\n",
        "    if b_char_inedito:\n",
        "        l_lista.append([s_char, i_freq])\n",
        "\n",
        "print('Frequência dos caracteres na string:')\n",
        "for item in l_lista:\n",
        "    if( item[1] > 1):\n",
        "        print(f'Caracter {item[0]}: {item[1]} ocorrências.')\n",
        "    else:\n",
        "        print(f'Caracter {item[0]}: {item[1]} ocorrência.')\n",
        "\n",
        "# l_lista"
      ],
      "execution_count": 147,
      "outputs": [
        {
          "output_type": "stream",
          "text": [
            "Frequência dos caracteres na string:\n",
            "Caracter g: 2 ocorrências.\n",
            "Caracter o: 3 ocorrências.\n",
            "Caracter l: 1 ocorrência.\n",
            "Caracter e: 1 ocorrência.\n",
            "Caracter .: 1 ocorrência.\n",
            "Caracter c: 1 ocorrência.\n",
            "Caracter m: 1 ocorrência.\n"
          ],
          "name": "stdout"
        }
      ]
    },
    {
      "cell_type": "code",
      "metadata": {
        "id": "3T6eWSIrLnt6"
      },
      "source": [
        ""
      ],
      "execution_count": 104,
      "outputs": []
    },
    {
      "cell_type": "code",
      "metadata": {
        "id": "zwyWSREAMI6f",
        "outputId": "c9036c29-5c44-4a95-8e70-601c5b2d4bc5",
        "colab": {
          "base_uri": "https://localhost:8080/",
          "height": 85
        }
      },
      "source": [
        "l_lista = [['g', 0], ['o',0]]\n",
        "l_lista\n",
        "\n",
        "for item in l_lista:\n",
        "    print(item)\n",
        "    print(f'Frequência do carctere\"{item[0]}\" é {item[1]}')"
      ],
      "execution_count": 104,
      "outputs": [
        {
          "output_type": "stream",
          "text": [
            "['g', 0]\n",
            "Frequência do carctere\"g\" é 0\n",
            "['o', 0]\n",
            "Frequência do carctere\"o\" é 0\n"
          ],
          "name": "stdout"
        }
      ]
    }
  ]
}