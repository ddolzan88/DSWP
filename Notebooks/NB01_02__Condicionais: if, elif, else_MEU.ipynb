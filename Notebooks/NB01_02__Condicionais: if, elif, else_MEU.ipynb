{
  "nbformat": 4,
  "nbformat_minor": 0,
  "metadata": {
    "colab": {
      "name": "Notebooks/NB01_02__Condicionais.ipynb",
      "provenance": [],
      "collapsed_sections": [
        "n8BIbzQbNWUo",
        "7eS94uQ4NhVR",
        "SYOgJpGYVLUu",
        "CaHFxk98W5if",
        "ReWUyWiHXCnc",
        "CqszHxaKHr2h",
        "tXgF1Wl9gHKY",
        "Fotx7XUquAo8",
        "36kmLUYDvsUI",
        "SWO2GdNovxAp",
        "vpN54l4vxze5",
        "u4HOf9SNytSq",
        "6BQ9oZiD9hg5",
        "tz5-QdrX9vct",
        "p1muBgMX8NK4",
        "FxTC2-U88ajk",
        "z8EYn0pP25Rh"
      ],
      "include_colab_link": true
    },
    "kernelspec": {
      "name": "python3",
      "display_name": "Python 3"
    },
    "accelerator": "GPU"
  },
  "cells": [
    {
      "cell_type": "markdown",
      "metadata": {
        "id": "view-in-github",
        "colab_type": "text"
      },
      "source": [
        "<a href=\"https://colab.research.google.com/github/ddolzan88/DSWP/blob/master/Notebooks/NB01_02__Condicionais%3A%20if%2C%20elif%2C%20else_MEU.ipynb\" target=\"_parent\"><img src=\"https://colab.research.google.com/assets/colab-badge.svg\" alt=\"Open In Colab\"/></a>"
      ]
    },
    {
      "cell_type": "markdown",
      "metadata": {
        "id": "8Y-QMrzHhpcu"
      },
      "source": [
        "<center><h1><b><i>CONDICIONAIS - IF</i></b></h1></center>\n",
        "\n"
      ]
    },
    {
      "cell_type": "markdown",
      "metadata": {
        "id": "wYGZ0eGlv--6"
      },
      "source": [
        "# **AGENDA**:\n",
        "> Veja o **índice** dos itens que serão abordados neste capítulo."
      ]
    },
    {
      "cell_type": "markdown",
      "metadata": {
        "id": "Q3FpTG0dh47M"
      },
      "source": [
        "___\n",
        "# **REFERÊNCIAS**\n"
      ]
    },
    {
      "cell_type": "markdown",
      "metadata": {
        "id": "LWuIj53sVSnA"
      },
      "source": [
        "___\n",
        "# **CONDICIONAIS**\n",
        "> Usado para decidir se uma determinada instrução ou bloco de instruções será executada ou não, isto é, se uma determinada condição for verdadeira, um bloco de instrução será executado."
      ]
    },
    {
      "cell_type": "code",
      "metadata": {
        "id": "NyG1l3awJzEq"
      },
      "source": [
        "# Não executar o código a seguir:\n",
        "if condicao1:\n",
        "    <bloco de código se condicao1 é verdade>\n",
        "elif condicao2:\n",
        "    <bloco de código se condicao2 é verdade>\n",
        "elif condicao3:\n",
        "    <bloco de código se condicao3 é verdade>\n",
        "    ...\n",
        "elif condicaoN:\n",
        "    <bloco de código se condicaoN é verdade>\n",
        "else:\n",
        "    <bloco de código se condicao1, condicao2, condicao3, ..., condicaoN e etc forem falso>"
      ],
      "execution_count": null,
      "outputs": []
    },
    {
      "cell_type": "markdown",
      "metadata": {
        "id": "FCJBMTh5WX5C"
      },
      "source": [
        "## Exemplo 1"
      ]
    },
    {
      "cell_type": "code",
      "metadata": {
        "id": "vn5u7CEaWZjH"
      },
      "source": [
        "def mensagem(i_idade, i_limite):\n",
        "    if i_idade > i_limite:\n",
        "        s_mensagem= f'{i_idade} é maior que {i_limite}'\n",
        "        print(s_mensagem)"
      ],
      "execution_count": null,
      "outputs": []
    },
    {
      "cell_type": "code",
      "metadata": {
        "id": "lW0ME_nVXU4M"
      },
      "source": [
        "mensagem(35, 40)"
      ],
      "execution_count": null,
      "outputs": []
    },
    {
      "cell_type": "markdown",
      "metadata": {
        "id": "EBBU8Yw2XxUo"
      },
      "source": [
        "Nenhuma mensagem? E agora?"
      ]
    },
    {
      "cell_type": "code",
      "metadata": {
        "id": "xQ23cAjMX1kx"
      },
      "source": [
        "mensagem(45, 40)"
      ],
      "execution_count": null,
      "outputs": []
    },
    {
      "cell_type": "markdown",
      "metadata": {
        "id": "BeHU0tPuWK4s"
      },
      "source": [
        "## Exemplo 2"
      ]
    },
    {
      "cell_type": "code",
      "metadata": {
        "id": "gSzCnjS0Fk-d"
      },
      "source": [
        "def mensagem2(i_idade, i_limite):\n",
        "    if i_idade > i_limite:\n",
        "        s_mensagem= f'{i_idade} é maior que {i_limite}'\n",
        "    else:\n",
        "        s_mensagem= f'{i_idade} é menor ou igual a {i_limite}'\n",
        "    \n",
        "    print(s_mensagem)"
      ],
      "execution_count": 4,
      "outputs": []
    },
    {
      "cell_type": "code",
      "metadata": {
        "id": "KxbmxuDwYFX_",
        "outputId": "6091b6ab-343c-463e-c2c7-9dcfa2c35c35",
        "colab": {
          "base_uri": "https://localhost:8080/",
          "height": 34
        }
      },
      "source": [
        "mensagem2(35, 40)"
      ],
      "execution_count": 5,
      "outputs": [
        {
          "output_type": "stream",
          "text": [
            "35 é menor ou igual a 40\n"
          ],
          "name": "stdout"
        }
      ]
    },
    {
      "cell_type": "markdown",
      "metadata": {
        "id": "lToDO6pzWPGL"
      },
      "source": [
        "## Exemplo 3"
      ]
    },
    {
      "cell_type": "code",
      "metadata": {
        "id": "a1NlziSbGrIl"
      },
      "source": [
        "def mensagem3(i_idade, i_limite1, i_limite2, i_limite3, i_limite4):\n",
        "    if ((i_idade > i_limite1) and (i_idade < i_limite2)):\n",
        "        s_mensagem= f'{i_idade} é maior que {i_limite1} e menor que {i_limite2}'\n",
        "    elif ((i_idade > i_limite3) and (i_idade < i_limite4)):\n",
        "        s_mensagem= f'{i_idade} é maior que {i_limite3} e menor que {i_limite4}'\n",
        "    else:\n",
        "        s_mensagem= f'{i_idade} é maior que {i_limite4}'\n",
        "    \n",
        "print(s_mensagem)"
      ],
      "execution_count": null,
      "outputs": []
    },
    {
      "cell_type": "markdown",
      "metadata": {
        "id": "V8FF3lFLYqui"
      },
      "source": [
        "Porque temos um erro nesta função?"
      ]
    },
    {
      "cell_type": "markdown",
      "metadata": {
        "id": "y5F09RKGYyoX"
      },
      "source": [
        "**Resposta**: por causa da indentação! A forma correta é:"
      ]
    },
    {
      "cell_type": "code",
      "metadata": {
        "id": "vR-oFyzAY5UC"
      },
      "source": [
        "def mensagem3(i_idade, i_limite1, i_limite2, i_limite3, i_limite4):\n",
        "    if ((i_idade > i_limite1) and (i_idade < i_limite2)):\n",
        "        s_mensagem= f'{i_idade} é maior que {i_limite1} e menor que {i_limite2}'\n",
        "    elif ((i_idade > i_limite3) and (i_idade < i_limite4)):\n",
        "        s_mensagem= f'{i_idade} é maior que {i_limite3} e menor que {i_limite4}'\n",
        "    else:\n",
        "        s_mensagem= f'{i_idade} é maior que {i_limite4}'\n",
        "    \n",
        "    print(s_mensagem)"
      ],
      "execution_count": 8,
      "outputs": []
    },
    {
      "cell_type": "code",
      "metadata": {
        "id": "QgkBOGKdYgGU",
        "outputId": "fa273453-c596-474c-fadd-3ba892b77f9d",
        "colab": {
          "base_uri": "https://localhost:8080/",
          "height": 34
        }
      },
      "source": [
        "mensagem3(35, 10, 20, 30, 40)"
      ],
      "execution_count": 9,
      "outputs": [
        {
          "output_type": "stream",
          "text": [
            "35 é maior que 30 e menor que 40\n"
          ],
          "name": "stdout"
        }
      ]
    },
    {
      "cell_type": "code",
      "metadata": {
        "id": "LRYO-y8evpy7",
        "outputId": "6874b2ea-26d2-4e8c-d7d3-b6963782752d",
        "colab": {
          "base_uri": "https://localhost:8080/",
          "height": 34
        }
      },
      "source": [
        "mensagem3(25, 10, 20, 30, 40)"
      ],
      "execution_count": 10,
      "outputs": [
        {
          "output_type": "stream",
          "text": [
            "25 é maior que 40\n"
          ],
          "name": "stdout"
        }
      ]
    },
    {
      "cell_type": "markdown",
      "metadata": {
        "id": "LLk7bhjSwZch"
      },
      "source": [
        "___\n",
        "# **Wrap Up**"
      ]
    },
    {
      "cell_type": "markdown",
      "metadata": {
        "id": "lJvjcjm8NQ85"
      },
      "source": [
        "___\n",
        "# Exercícios\n",
        "## **Exercício 1**: \n",
        "Escreva uma função em Python que receba um número inteiro i_limite e, na sequência, imprime os números inteiros de 0 a i_limite;\n",
        "\n",
        "## **outros exercícios**: \n",
        "Nos sites abaixo você vai encontrar exercícios de Python:\n",
        "### https://pynative.com/python-if-else-and-for-loop-exercise-with-solutions/;\n",
        "### https://www.w3resource.com/python-exercises/"
      ]
    },
    {
      "cell_type": "code",
      "metadata": {
        "id": "z-72Ihfzv4l2"
      },
      "source": [
        "# Exercício 1\n",
        "def imprime_int(i_limite):\n",
        "     num = 0;\n",
        "     while num <= i_limite:\n",
        "       print(num)\n",
        "       num+=1"
      ],
      "execution_count": 15,
      "outputs": []
    },
    {
      "cell_type": "code",
      "metadata": {
        "id": "Gi091pZrwbnY",
        "outputId": "ad64271e-f3c3-47fb-c1db-f6bcd9cb0574",
        "colab": {
          "base_uri": "https://localhost:8080/",
          "height": 85
        }
      },
      "source": [
        "imprime_int(3)"
      ],
      "execution_count": 16,
      "outputs": [
        {
          "output_type": "stream",
          "text": [
            "0\n",
            "1\n",
            "2\n",
            "3\n"
          ],
          "name": "stdout"
        }
      ]
    }
  ]
}